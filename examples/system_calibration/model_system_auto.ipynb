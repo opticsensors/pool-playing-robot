{
 "cells": [
  {
   "attachments": {},
   "cell_type": "markdown",
   "metadata": {},
   "source": [
    "# Load data"
   ]
  },
  {
   "cell_type": "code",
   "execution_count": 1,
   "metadata": {},
   "outputs": [
    {
     "data": {
      "text/html": [
       "<div>\n",
       "<style scoped>\n",
       "    .dataframe tbody tr th:only-of-type {\n",
       "        vertical-align: middle;\n",
       "    }\n",
       "\n",
       "    .dataframe tbody tr th {\n",
       "        vertical-align: top;\n",
       "    }\n",
       "\n",
       "    .dataframe thead th {\n",
       "        text-align: right;\n",
       "    }\n",
       "</style>\n",
       "<table border=\"1\" class=\"dataframe\">\n",
       "  <thead>\n",
       "    <tr style=\"text-align: right;\">\n",
       "      <th></th>\n",
       "      <th>img_num</th>\n",
       "      <th>target_aruco</th>\n",
       "      <th>img_name</th>\n",
       "      <th>carriage_x_dist</th>\n",
       "      <th>carriage_y_dist</th>\n",
       "      <th>carriage_x_undist</th>\n",
       "      <th>carriage_y_undist</th>\n",
       "      <th>carriage_x_dist_warp</th>\n",
       "      <th>carriage_y_dist_warp</th>\n",
       "      <th>carriage_x_undist_warp</th>\n",
       "      <th>...</th>\n",
       "      <th>angle_undist</th>\n",
       "      <th>angle_dist_warp</th>\n",
       "      <th>angle_undist_warp</th>\n",
       "      <th>point_x</th>\n",
       "      <th>point_y</th>\n",
       "      <th>incr_x</th>\n",
       "      <th>incr_y</th>\n",
       "      <th>steps1</th>\n",
       "      <th>steps2</th>\n",
       "      <th>angle</th>\n",
       "    </tr>\n",
       "  </thead>\n",
       "  <tbody>\n",
       "    <tr>\n",
       "      <th>0</th>\n",
       "      <td>0</td>\n",
       "      <td>17</td>\n",
       "      <td>img_0</td>\n",
       "      <td>1379.5</td>\n",
       "      <td>2236.5</td>\n",
       "      <td>1396.0</td>\n",
       "      <td>2211.0</td>\n",
       "      <td>1260.7062</td>\n",
       "      <td>1823.64970</td>\n",
       "      <td>1270.2755</td>\n",
       "      <td>...</td>\n",
       "      <td>73.073723</td>\n",
       "      <td>72.321121</td>\n",
       "      <td>72.494843</td>\n",
       "      <td>0.25</td>\n",
       "      <td>0.333333</td>\n",
       "      <td>0.25</td>\n",
       "      <td>0.333333</td>\n",
       "      <td>-213</td>\n",
       "      <td>1998</td>\n",
       "      <td>155.6862</td>\n",
       "    </tr>\n",
       "    <tr>\n",
       "      <th>1</th>\n",
       "      <td>1</td>\n",
       "      <td>21</td>\n",
       "      <td>img_1</td>\n",
       "      <td>2517.0</td>\n",
       "      <td>2234.0</td>\n",
       "      <td>2523.0</td>\n",
       "      <td>2205.0</td>\n",
       "      <td>2404.3930</td>\n",
       "      <td>1811.74230</td>\n",
       "      <td>2401.4902</td>\n",
       "      <td>...</td>\n",
       "      <td>-99.496105</td>\n",
       "      <td>-99.960548</td>\n",
       "      <td>-99.953033</td>\n",
       "      <td>0.50</td>\n",
       "      <td>0.333333</td>\n",
       "      <td>0.25</td>\n",
       "      <td>0.000000</td>\n",
       "      <td>-1105</td>\n",
       "      <td>1105</td>\n",
       "      <td>352.4506</td>\n",
       "    </tr>\n",
       "    <tr>\n",
       "      <th>2</th>\n",
       "      <td>2</td>\n",
       "      <td>20</td>\n",
       "      <td>img_2</td>\n",
       "      <td>3650.5</td>\n",
       "      <td>2239.0</td>\n",
       "      <td>3642.5</td>\n",
       "      <td>2211.0</td>\n",
       "      <td>3534.5100</td>\n",
       "      <td>1807.49350</td>\n",
       "      <td>3519.4976</td>\n",
       "      <td>...</td>\n",
       "      <td>24.035767</td>\n",
       "      <td>23.642834</td>\n",
       "      <td>23.688282</td>\n",
       "      <td>0.75</td>\n",
       "      <td>0.333333</td>\n",
       "      <td>0.25</td>\n",
       "      <td>0.000000</td>\n",
       "      <td>-1105</td>\n",
       "      <td>1105</td>\n",
       "      <td>113.7214</td>\n",
       "    </tr>\n",
       "    <tr>\n",
       "      <th>3</th>\n",
       "      <td>3</td>\n",
       "      <td>18</td>\n",
       "      <td>img_3</td>\n",
       "      <td>1374.0</td>\n",
       "      <td>1320.0</td>\n",
       "      <td>1390.5</td>\n",
       "      <td>1305.0</td>\n",
       "      <td>1246.2526</td>\n",
       "      <td>895.08470</td>\n",
       "      <td>1255.4397</td>\n",
       "      <td>...</td>\n",
       "      <td>NaN</td>\n",
       "      <td>NaN</td>\n",
       "      <td>NaN</td>\n",
       "      <td>0.25</td>\n",
       "      <td>0.666667</td>\n",
       "      <td>-0.50</td>\n",
       "      <td>0.333333</td>\n",
       "      <td>3104</td>\n",
       "      <td>-1319</td>\n",
       "      <td>174.7001</td>\n",
       "    </tr>\n",
       "    <tr>\n",
       "      <th>4</th>\n",
       "      <td>4</td>\n",
       "      <td>15</td>\n",
       "      <td>img_4</td>\n",
       "      <td>2510.5</td>\n",
       "      <td>1312.5</td>\n",
       "      <td>2517.5</td>\n",
       "      <td>1299.5</td>\n",
       "      <td>2390.4072</td>\n",
       "      <td>882.05410</td>\n",
       "      <td>2388.2563</td>\n",
       "      <td>...</td>\n",
       "      <td>-122.599206</td>\n",
       "      <td>-122.718506</td>\n",
       "      <td>-122.930870</td>\n",
       "      <td>0.50</td>\n",
       "      <td>0.666667</td>\n",
       "      <td>0.25</td>\n",
       "      <td>0.000000</td>\n",
       "      <td>-1105</td>\n",
       "      <td>1105</td>\n",
       "      <td>328.2257</td>\n",
       "    </tr>\n",
       "    <tr>\n",
       "      <th>5</th>\n",
       "      <td>5</td>\n",
       "      <td>13</td>\n",
       "      <td>img_5</td>\n",
       "      <td>3642.5</td>\n",
       "      <td>1315.0</td>\n",
       "      <td>3634.5</td>\n",
       "      <td>1301.5</td>\n",
       "      <td>3520.5137</td>\n",
       "      <td>879.21405</td>\n",
       "      <td>3505.3132</td>\n",
       "      <td>...</td>\n",
       "      <td>169.928145</td>\n",
       "      <td>169.537872</td>\n",
       "      <td>169.556625</td>\n",
       "      <td>0.75</td>\n",
       "      <td>0.666667</td>\n",
       "      <td>0.25</td>\n",
       "      <td>0.000000</td>\n",
       "      <td>-1105</td>\n",
       "      <td>1105</td>\n",
       "      <td>258.9301</td>\n",
       "    </tr>\n",
       "  </tbody>\n",
       "</table>\n",
       "<p>6 rows × 30 columns</p>\n",
       "</div>"
      ],
      "text/plain": [
       "   img_num  target_aruco img_name  carriage_x_dist  carriage_y_dist  \\\n",
       "0        0            17    img_0           1379.5           2236.5   \n",
       "1        1            21    img_1           2517.0           2234.0   \n",
       "2        2            20    img_2           3650.5           2239.0   \n",
       "3        3            18    img_3           1374.0           1320.0   \n",
       "4        4            15    img_4           2510.5           1312.5   \n",
       "5        5            13    img_5           3642.5           1315.0   \n",
       "\n",
       "   carriage_x_undist  carriage_y_undist  carriage_x_dist_warp  \\\n",
       "0             1396.0             2211.0             1260.7062   \n",
       "1             2523.0             2205.0             2404.3930   \n",
       "2             3642.5             2211.0             3534.5100   \n",
       "3             1390.5             1305.0             1246.2526   \n",
       "4             2517.5             1299.5             2390.4072   \n",
       "5             3634.5             1301.5             3520.5137   \n",
       "\n",
       "   carriage_y_dist_warp  carriage_x_undist_warp  ...  angle_undist  \\\n",
       "0            1823.64970               1270.2755  ...     73.073723   \n",
       "1            1811.74230               2401.4902  ...    -99.496105   \n",
       "2            1807.49350               3519.4976  ...     24.035767   \n",
       "3             895.08470               1255.4397  ...           NaN   \n",
       "4             882.05410               2388.2563  ...   -122.599206   \n",
       "5             879.21405               3505.3132  ...    169.928145   \n",
       "\n",
       "   angle_dist_warp  angle_undist_warp  point_x   point_y  incr_x    incr_y  \\\n",
       "0        72.321121          72.494843     0.25  0.333333    0.25  0.333333   \n",
       "1       -99.960548         -99.953033     0.50  0.333333    0.25  0.000000   \n",
       "2        23.642834          23.688282     0.75  0.333333    0.25  0.000000   \n",
       "3              NaN                NaN     0.25  0.666667   -0.50  0.333333   \n",
       "4      -122.718506        -122.930870     0.50  0.666667    0.25  0.000000   \n",
       "5       169.537872         169.556625     0.75  0.666667    0.25  0.000000   \n",
       "\n",
       "   steps1  steps2     angle  \n",
       "0    -213    1998  155.6862  \n",
       "1   -1105    1105  352.4506  \n",
       "2   -1105    1105  113.7214  \n",
       "3    3104   -1319  174.7001  \n",
       "4   -1105    1105  328.2257  \n",
       "5   -1105    1105  258.9301  \n",
       "\n",
       "[6 rows x 30 columns]"
      ]
     },
     "execution_count": 1,
     "metadata": {},
     "output_type": "execute_result"
    }
   ],
   "source": [
    "import pandas as pd\n",
    "import numpy as np\n",
    "df = pd.read_csv('./results/auto_data1/calibration_dof_to_step.csv', sep=',',decimal='.')\n",
    "df"
   ]
  },
  {
   "attachments": {},
   "cell_type": "markdown",
   "metadata": {},
   "source": [
    "# Data preprocessing"
   ]
  },
  {
   "cell_type": "code",
   "execution_count": 2,
   "metadata": {},
   "outputs": [],
   "source": [
    "df['cos']=np.cos(df['angle']*np.pi/180)\n",
    "df['sin']=np.sin(df['angle']*np.pi/180)"
   ]
  },
  {
   "cell_type": "code",
   "execution_count": 3,
   "metadata": {},
   "outputs": [],
   "source": [
    "x = df[['target_x_undist_warp', 'target_y_undist_warp', 'cos', 'sin']]\n",
    "y = df[['point_x','point_y']]"
   ]
  },
  {
   "cell_type": "code",
   "execution_count": 8,
   "metadata": {},
   "outputs": [],
   "source": [
    "#from sklearn.model_selection import train_test_split\n",
    "#x_train,x_test,y_train,y_test= train_test_split(x,y,test_size=0.1, stratify=df['target_aruco'])"
   ]
  },
  {
   "attachments": {},
   "cell_type": "markdown",
   "metadata": {},
   "source": [
    "# Linear regressor"
   ]
  },
  {
   "cell_type": "code",
   "execution_count": 4,
   "metadata": {},
   "outputs": [],
   "source": [
    "from sklearn import linear_model\n",
    "model=linear_model.LinearRegression()\n",
    "model.fit(x,y)\n",
    "\n",
    "y_pred=model.predict(x)"
   ]
  },
  {
   "cell_type": "code",
   "execution_count": 5,
   "metadata": {},
   "outputs": [
    {
     "name": "stdout",
     "output_type": "stream",
     "text": [
      "4.96861988306979e-05 0.999999908524479\n"
     ]
    }
   ],
   "source": [
    "from sklearn.metrics import r2_score, mean_squared_error\n",
    "print(mean_squared_error(y,y_pred,squared=False),r2_score(y,y_pred))"
   ]
  },
  {
   "cell_type": "code",
   "execution_count": 6,
   "metadata": {},
   "outputs": [
    {
     "data": {
      "text/plain": [
       "Text(0.5, 1.0, 'true vs predicted')"
      ]
     },
     "execution_count": 6,
     "metadata": {},
     "output_type": "execute_result"
    },
    {
     "data": {
      "image/png": "[encoded data removed]",
      "text/plain": [
       "<Figure size 1000x800 with 1 Axes>"
      ]
     },
     "metadata": {},
     "output_type": "display_data"
    }
   ],
   "source": [
    "import matplotlib.pyplot as plt\n",
    "plt.figure(figsize=(10,8))\n",
    "plt.scatter(y,y_pred)\n",
    "plt.plot(y_pred, y_pred, color = 'red')\n",
    "plt.xlabel('true position')\n",
    "plt.ylabel('predicted position')\n",
    "plt.title('true vs predicted')"
   ]
  },
  {
   "cell_type": "code",
   "execution_count": 15,
   "metadata": {},
   "outputs": [],
   "source": [
    "from pool.calibration import InverseKinematics\n",
    "ik = InverseKinematics()\n",
    "steps1,steps2=ik.cm_to_steps(y_pred[:,0],y_pred[:,1])"
   ]
  },
  {
   "cell_type": "code",
   "execution_count": 16,
   "metadata": {},
   "outputs": [],
   "source": [
    "absolute_steps1=df['steps1'].cumsum()\n",
    "absolute_steps2=df['steps2'].cumsum()"
   ]
  },
  {
   "cell_type": "code",
   "execution_count": 17,
   "metadata": {},
   "outputs": [
    {
     "name": "stdout",
     "output_type": "stream",
     "text": [
      "0    1.329232\n",
      "1    1.282659\n",
      "2    2.770798\n",
      "3    2.237662\n",
      "4    4.223967\n",
      "5    4.598767\n",
      "Name: steps1, dtype: float64 0    0.458601\n",
      "1    0.587826\n",
      "2    1.981276\n",
      "3    0.755469\n",
      "4    2.559284\n",
      "5    3.035617\n",
      "Name: steps2, dtype: float64\n"
     ]
    }
   ],
   "source": [
    "error1=np.abs(absolute_steps1-steps1)\n",
    "error2=np.abs(absolute_steps2-steps2)\n",
    "print(error1, error2)"
   ]
  },
  {
   "attachments": {},
   "cell_type": "markdown",
   "metadata": {},
   "source": [
    "# Save model"
   ]
  },
  {
   "cell_type": "code",
   "execution_count": 7,
   "metadata": {},
   "outputs": [
    {
     "data": {
      "text/plain": [
       "['C:\\\\Users\\\\usuario\\\\Desktop\\\\TFM\\\\automatic pool\\\\software\\\\repo\\\\data\\\\inverse_kinematics.pkl']"
      ]
     },
     "execution_count": 7,
     "metadata": {},
     "output_type": "execute_result"
    }
   ],
   "source": [
    "import os\n",
    "import joblib\n",
    "from pool.utils import Params\n",
    "\n",
    "params=Params()\n",
    "joblib.dump(model, os.path.join(params.PATH_REPO, 'data', \"inverse_kinematics.pkl\"))"
   ]
  }
 ],
 "metadata": {
  "kernelspec": {
   "display_name": "Python 3",
   "language": "python",
   "name": "python3"
  },
  "language_info": {
   "codemirror_mode": {
    "name": "ipython",
    "version": 3
   },
   "file_extension": ".py",
   "mimetype": "text/x-python",
   "name": "python",
   "nbconvert_exporter": "python",
   "pygments_lexer": "ipython3",
   "version": "3.11.2"
  },
  "orig_nbformat": 4
 },
 "nbformat": 4,
 "nbformat_minor": 2
}
