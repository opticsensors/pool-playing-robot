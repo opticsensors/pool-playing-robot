{
 "cells": [
  {
   "attachments": {},
   "cell_type": "markdown",
   "metadata": {},
   "source": [
    "# Load data"
   ]
  },
  {
   "cell_type": "code",
   "execution_count": 2,
   "metadata": {},
   "outputs": [
    {
     "data": {
      "text/html": [
       "<div>\n",
       "<style scoped>\n",
       "    .dataframe tbody tr th:only-of-type {\n",
       "        vertical-align: middle;\n",
       "    }\n",
       "\n",
       "    .dataframe tbody tr th {\n",
       "        vertical-align: top;\n",
       "    }\n",
       "\n",
       "    .dataframe thead th {\n",
       "        text-align: right;\n",
       "    }\n",
       "</style>\n",
       "<table border=\"1\" class=\"dataframe\">\n",
       "  <thead>\n",
       "    <tr style=\"text-align: right;\">\n",
       "      <th></th>\n",
       "      <th>img_num</th>\n",
       "      <th>target_aruco</th>\n",
       "      <th>img_name</th>\n",
       "      <th>carriage_x_dist</th>\n",
       "      <th>carriage_y_dist</th>\n",
       "      <th>carriage_x_undist</th>\n",
       "      <th>carriage_y_undist</th>\n",
       "      <th>carriage_x_dist_warp</th>\n",
       "      <th>carriage_y_dist_warp</th>\n",
       "      <th>carriage_x_undist_warp</th>\n",
       "      <th>...</th>\n",
       "      <th>target_y_dist_warp</th>\n",
       "      <th>target_x_undist_warp</th>\n",
       "      <th>target_y_undist_warp</th>\n",
       "      <th>point_x</th>\n",
       "      <th>point_y</th>\n",
       "      <th>incr_x</th>\n",
       "      <th>incr_y</th>\n",
       "      <th>steps1</th>\n",
       "      <th>steps2</th>\n",
       "      <th>angle</th>\n",
       "    </tr>\n",
       "  </thead>\n",
       "  <tbody>\n",
       "    <tr>\n",
       "      <th>0</th>\n",
       "      <td>0</td>\n",
       "      <td>8</td>\n",
       "      <td>img_0</td>\n",
       "      <td>1380.0</td>\n",
       "      <td>2231.5</td>\n",
       "      <td>1395.0</td>\n",
       "      <td>2205.0</td>\n",
       "      <td>1275.4757</td>\n",
       "      <td>1876.53470</td>\n",
       "      <td>1283.7833</td>\n",
       "      <td>...</td>\n",
       "      <td>1346.51990</td>\n",
       "      <td>1535.4520</td>\n",
       "      <td>1331.54960</td>\n",
       "      <td>0.25</td>\n",
       "      <td>0.333333</td>\n",
       "      <td>0.25</td>\n",
       "      <td>0.333333</td>\n",
       "      <td>-213</td>\n",
       "      <td>1998</td>\n",
       "      <td>8.9933</td>\n",
       "    </tr>\n",
       "    <tr>\n",
       "      <th>1</th>\n",
       "      <td>1</td>\n",
       "      <td>9</td>\n",
       "      <td>img_1</td>\n",
       "      <td>2518.0</td>\n",
       "      <td>2232.0</td>\n",
       "      <td>2525.5</td>\n",
       "      <td>2204.0</td>\n",
       "      <td>2419.1707</td>\n",
       "      <td>1862.05370</td>\n",
       "      <td>2418.0854</td>\n",
       "      <td>...</td>\n",
       "      <td>2283.15720</td>\n",
       "      <td>2252.3080</td>\n",
       "      <td>2251.75100</td>\n",
       "      <td>0.50</td>\n",
       "      <td>0.333333</td>\n",
       "      <td>0.25</td>\n",
       "      <td>0.000000</td>\n",
       "      <td>-1105</td>\n",
       "      <td>1105</td>\n",
       "      <td>169.9296</td>\n",
       "    </tr>\n",
       "    <tr>\n",
       "      <th>2</th>\n",
       "      <td>2</td>\n",
       "      <td>10</td>\n",
       "      <td>img_2</td>\n",
       "      <td>3661.0</td>\n",
       "      <td>2231.0</td>\n",
       "      <td>3653.5</td>\n",
       "      <td>2203.5</td>\n",
       "      <td>3557.9568</td>\n",
       "      <td>1846.12720</td>\n",
       "      <td>3543.8513</td>\n",
       "      <td>...</td>\n",
       "      <td>2145.24070</td>\n",
       "      <td>2906.3680</td>\n",
       "      <td>2115.94500</td>\n",
       "      <td>0.75</td>\n",
       "      <td>0.333333</td>\n",
       "      <td>0.25</td>\n",
       "      <td>0.000000</td>\n",
       "      <td>-1105</td>\n",
       "      <td>1105</td>\n",
       "      <td>207.6323</td>\n",
       "    </tr>\n",
       "    <tr>\n",
       "      <th>3</th>\n",
       "      <td>3</td>\n",
       "      <td>11</td>\n",
       "      <td>img_3</td>\n",
       "      <td>1381.5</td>\n",
       "      <td>1312.0</td>\n",
       "      <td>1399.0</td>\n",
       "      <td>1298.0</td>\n",
       "      <td>1263.9171</td>\n",
       "      <td>944.86250</td>\n",
       "      <td>1274.7429</td>\n",
       "      <td>...</td>\n",
       "      <td>555.02030</td>\n",
       "      <td>1479.2719</td>\n",
       "      <td>553.44450</td>\n",
       "      <td>0.25</td>\n",
       "      <td>0.666667</td>\n",
       "      <td>-0.50</td>\n",
       "      <td>0.333333</td>\n",
       "      <td>3104</td>\n",
       "      <td>-1319</td>\n",
       "      <td>3.4071</td>\n",
       "    </tr>\n",
       "    <tr>\n",
       "      <th>4</th>\n",
       "      <td>4</td>\n",
       "      <td>12</td>\n",
       "      <td>img_4</td>\n",
       "      <td>2520.0</td>\n",
       "      <td>1309.0</td>\n",
       "      <td>2526.5</td>\n",
       "      <td>1296.0</td>\n",
       "      <td>2409.2607</td>\n",
       "      <td>930.86176</td>\n",
       "      <td>2407.2964</td>\n",
       "      <td>...</td>\n",
       "      <td>988.47350</td>\n",
       "      <td>1790.4620</td>\n",
       "      <td>981.22345</td>\n",
       "      <td>0.50</td>\n",
       "      <td>0.666667</td>\n",
       "      <td>0.25</td>\n",
       "      <td>0.000000</td>\n",
       "      <td>-1105</td>\n",
       "      <td>1105</td>\n",
       "      <td>258.5200</td>\n",
       "    </tr>\n",
       "    <tr>\n",
       "      <th>5</th>\n",
       "      <td>5</td>\n",
       "      <td>13</td>\n",
       "      <td>img_5</td>\n",
       "      <td>3662.0</td>\n",
       "      <td>1308.0</td>\n",
       "      <td>3654.0</td>\n",
       "      <td>1295.0</td>\n",
       "      <td>3548.2322</td>\n",
       "      <td>918.95950</td>\n",
       "      <td>3533.8290</td>\n",
       "      <td>...</td>\n",
       "      <td>1019.33356</td>\n",
       "      <td>3701.8079</td>\n",
       "      <td>1010.77370</td>\n",
       "      <td>0.75</td>\n",
       "      <td>0.666667</td>\n",
       "      <td>0.25</td>\n",
       "      <td>0.000000</td>\n",
       "      <td>-1105</td>\n",
       "      <td>1105</td>\n",
       "      <td>77.9949</td>\n",
       "    </tr>\n",
       "  </tbody>\n",
       "</table>\n",
       "<p>6 rows × 26 columns</p>\n",
       "</div>"
      ],
      "text/plain": [
       "   img_num  target_aruco img_name  carriage_x_dist  carriage_y_dist   \n",
       "0        0             8    img_0           1380.0           2231.5  \\\n",
       "1        1             9    img_1           2518.0           2232.0   \n",
       "2        2            10    img_2           3661.0           2231.0   \n",
       "3        3            11    img_3           1381.5           1312.0   \n",
       "4        4            12    img_4           2520.0           1309.0   \n",
       "5        5            13    img_5           3662.0           1308.0   \n",
       "\n",
       "   carriage_x_undist  carriage_y_undist  carriage_x_dist_warp   \n",
       "0             1395.0             2205.0             1275.4757  \\\n",
       "1             2525.5             2204.0             2419.1707   \n",
       "2             3653.5             2203.5             3557.9568   \n",
       "3             1399.0             1298.0             1263.9171   \n",
       "4             2526.5             1296.0             2409.2607   \n",
       "5             3654.0             1295.0             3548.2322   \n",
       "\n",
       "   carriage_y_dist_warp  carriage_x_undist_warp  ...  target_y_dist_warp   \n",
       "0            1876.53470               1283.7833  ...          1346.51990  \\\n",
       "1            1862.05370               2418.0854  ...          2283.15720   \n",
       "2            1846.12720               3543.8513  ...          2145.24070   \n",
       "3             944.86250               1274.7429  ...           555.02030   \n",
       "4             930.86176               2407.2964  ...           988.47350   \n",
       "5             918.95950               3533.8290  ...          1019.33356   \n",
       "\n",
       "   target_x_undist_warp  target_y_undist_warp  point_x   point_y  incr_x   \n",
       "0             1535.4520            1331.54960     0.25  0.333333    0.25  \\\n",
       "1             2252.3080            2251.75100     0.50  0.333333    0.25   \n",
       "2             2906.3680            2115.94500     0.75  0.333333    0.25   \n",
       "3             1479.2719             553.44450     0.25  0.666667   -0.50   \n",
       "4             1790.4620             981.22345     0.50  0.666667    0.25   \n",
       "5             3701.8079            1010.77370     0.75  0.666667    0.25   \n",
       "\n",
       "     incr_y  steps1  steps2     angle  \n",
       "0  0.333333    -213    1998    8.9933  \n",
       "1  0.000000   -1105    1105  169.9296  \n",
       "2  0.000000   -1105    1105  207.6323  \n",
       "3  0.333333    3104   -1319    3.4071  \n",
       "4  0.000000   -1105    1105  258.5200  \n",
       "5  0.000000   -1105    1105   77.9949  \n",
       "\n",
       "[6 rows x 26 columns]"
      ]
     },
     "execution_count": 2,
     "metadata": {},
     "output_type": "execute_result"
    }
   ],
   "source": [
    "import pandas as pd\n",
    "import numpy as np\n",
    "df = pd.read_csv('./results/data4/calibration_dof_to_step.csv', sep=',',decimal='.')\n",
    "df"
   ]
  },
  {
   "attachments": {},
   "cell_type": "markdown",
   "metadata": {},
   "source": [
    "# Data preprocessing"
   ]
  },
  {
   "cell_type": "code",
   "execution_count": 3,
   "metadata": {},
   "outputs": [],
   "source": [
    "df['cos']=np.cos(df['angle']*np.pi/180)\n",
    "df['sin']=np.sin(df['angle']*np.pi/180)"
   ]
  },
  {
   "cell_type": "code",
   "execution_count": 4,
   "metadata": {},
   "outputs": [],
   "source": [
    "x = df[['target_x_undist_warp', 'target_y_undist_warp', 'cos', 'sin']]\n",
    "y = df[['point_x','point_y']]"
   ]
  },
  {
   "cell_type": "code",
   "execution_count": 5,
   "metadata": {},
   "outputs": [],
   "source": [
    "#from sklearn.model_selection import train_test_split\n",
    "#x_train,x_test,y_train,y_test= train_test_split(x,y,test_size=0.1, stratify=df['target_aruco'])"
   ]
  },
  {
   "attachments": {},
   "cell_type": "markdown",
   "metadata": {},
   "source": [
    "# Linear regressor"
   ]
  },
  {
   "cell_type": "code",
   "execution_count": 6,
   "metadata": {},
   "outputs": [],
   "source": [
    "from sklearn import linear_model\n",
    "model=linear_model.LinearRegression()\n",
    "model.fit(x,y)\n",
    "\n",
    "y_pred=model.predict(x)"
   ]
  },
  {
   "cell_type": "code",
   "execution_count": 7,
   "metadata": {},
   "outputs": [
    {
     "name": "stdout",
     "output_type": "stream",
     "text": [
      "1.687622515361432e-05 0.9999999872471683\n"
     ]
    }
   ],
   "source": [
    "from sklearn.metrics import r2_score, mean_squared_error\n",
    "print(mean_squared_error(y,y_pred,squared=False),r2_score(y,y_pred))"
   ]
  },
  {
   "cell_type": "code",
   "execution_count": 8,
   "metadata": {},
   "outputs": [
    {
     "data": {
      "text/plain": [
       "Text(0.5, 1.0, 'true vs predicted')"
      ]
     },
     "execution_count": 8,
     "metadata": {},
     "output_type": "execute_result"
    },
    {
     "data": {
      "image/png": "[encoded data removed]",
      "text/plain": [
       "<Figure size 1000x800 with 1 Axes>"
      ]
     },
     "metadata": {},
     "output_type": "display_data"
    }
   ],
   "source": [
    "import matplotlib.pyplot as plt\n",
    "plt.figure(figsize=(10,8))\n",
    "plt.scatter(y,y_pred)\n",
    "plt.plot(y_pred, y_pred, color = 'red')\n",
    "plt.xlabel('true position')\n",
    "plt.ylabel('predicted position')\n",
    "plt.title('true vs predicted')"
   ]
  },
  {
   "cell_type": "code",
   "execution_count": 9,
   "metadata": {},
   "outputs": [],
   "source": [
    "from pool.calibration import InverseKinematics\n",
    "ik = InverseKinematics()\n",
    "steps1,steps2=ik.cm_to_steps(y_pred[:,0],y_pred[:,1])"
   ]
  },
  {
   "cell_type": "code",
   "execution_count": 10,
   "metadata": {},
   "outputs": [],
   "source": [
    "absolute_steps1=df['steps1'].cumsum()\n",
    "absolute_steps2=df['steps2'].cumsum()"
   ]
  },
  {
   "cell_type": "code",
   "execution_count": 11,
   "metadata": {},
   "outputs": [
    {
     "name": "stdout",
     "output_type": "stream",
     "text": [
      "0    0.709654\n",
      "1    1.762201\n",
      "2    2.910934\n",
      "3    2.966112\n",
      "4    3.525942\n",
      "5    4.568243\n",
      "Name: steps1, dtype: float64 0    0.069586\n",
      "1    0.978581\n",
      "2    2.118790\n",
      "3    1.386190\n",
      "4    1.962868\n",
      "5    3.001230\n",
      "Name: steps2, dtype: float64\n"
     ]
    }
   ],
   "source": [
    "error1=np.abs(absolute_steps1-steps1)\n",
    "error2=np.abs(absolute_steps2-steps2)\n",
    "print(error1, error2)"
   ]
  },
  {
   "attachments": {},
   "cell_type": "markdown",
   "metadata": {},
   "source": [
    "# Save model"
   ]
  },
  {
   "cell_type": "code",
   "execution_count": 12,
   "metadata": {},
   "outputs": [
    {
     "data": {
      "text/plain": [
       "['C:\\\\Users\\\\ioliv\\\\OneDrive\\\\Escritorio\\\\TFM\\\\software\\\\repo\\\\pool-playing-robot\\\\data\\\\inverse_kinematics.pkl']"
      ]
     },
     "execution_count": 12,
     "metadata": {},
     "output_type": "execute_result"
    }
   ],
   "source": [
    "import os\n",
    "import joblib\n",
    "from pool.utils import Params\n",
    "\n",
    "params=Params()\n",
    "joblib.dump(model, os.path.join(params.PATH_REPO, 'data', \"inverse_kinematics.pkl\"))"
   ]
  }
 ],
 "metadata": {
  "kernelspec": {
   "display_name": "Python 3",
   "language": "python",
   "name": "python3"
  },
  "language_info": {
   "codemirror_mode": {
    "name": "ipython",
    "version": 3
   },
   "file_extension": ".py",
   "mimetype": "text/x-python",
   "name": "python",
   "nbconvert_exporter": "python",
   "pygments_lexer": "ipython3",
   "version": "3.11.2"
  },
  "orig_nbformat": 4
 },
 "nbformat": 4,
 "nbformat_minor": 2
}
