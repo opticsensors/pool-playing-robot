{
 "cells": [
  {
   "cell_type": "code",
   "execution_count": 2,
   "metadata": {},
   "outputs": [
    {
     "data": {
      "text/html": [
       "<div>\n",
       "<style scoped>\n",
       "    .dataframe tbody tr th:only-of-type {\n",
       "        vertical-align: middle;\n",
       "    }\n",
       "\n",
       "    .dataframe tbody tr th {\n",
       "        vertical-align: top;\n",
       "    }\n",
       "\n",
       "    .dataframe thead th {\n",
       "        text-align: right;\n",
       "    }\n",
       "</style>\n",
       "<table border=\"1\" class=\"dataframe\">\n",
       "  <thead>\n",
       "    <tr style=\"text-align: right;\">\n",
       "      <th></th>\n",
       "      <th>img_num</th>\n",
       "      <th>target_aruco</th>\n",
       "      <th>img_name</th>\n",
       "      <th>carriage_x_dist</th>\n",
       "      <th>carriage_y_dist</th>\n",
       "      <th>carriage_x_undist</th>\n",
       "      <th>carriage_y_undist</th>\n",
       "      <th>carriage_x_dist_warp</th>\n",
       "      <th>carriage_y_dist_warp</th>\n",
       "      <th>carriage_x_undist_warp</th>\n",
       "      <th>...</th>\n",
       "      <th>angle_undist</th>\n",
       "      <th>angle_dist_warp</th>\n",
       "      <th>angle_undist_warp</th>\n",
       "      <th>point_x</th>\n",
       "      <th>point_y</th>\n",
       "      <th>incr_x</th>\n",
       "      <th>incr_y</th>\n",
       "      <th>steps1</th>\n",
       "      <th>steps2</th>\n",
       "      <th>angle</th>\n",
       "    </tr>\n",
       "  </thead>\n",
       "  <tbody>\n",
       "    <tr>\n",
       "      <th>0</th>\n",
       "      <td>0</td>\n",
       "      <td>17</td>\n",
       "      <td>img_0</td>\n",
       "      <td>1379.5</td>\n",
       "      <td>2236.5</td>\n",
       "      <td>1396.0</td>\n",
       "      <td>2211.0</td>\n",
       "      <td>1260.7062</td>\n",
       "      <td>1823.6497</td>\n",
       "      <td>1270.2755</td>\n",
       "      <td>...</td>\n",
       "      <td>73.073723</td>\n",
       "      <td>72.321121</td>\n",
       "      <td>72.494843</td>\n",
       "      <td>0.25</td>\n",
       "      <td>0.333333</td>\n",
       "      <td>0.25</td>\n",
       "      <td>0.333333</td>\n",
       "      <td>-213</td>\n",
       "      <td>1998</td>\n",
       "      <td>155.6862</td>\n",
       "    </tr>\n",
       "    <tr>\n",
       "      <th>1</th>\n",
       "      <td>1</td>\n",
       "      <td>21</td>\n",
       "      <td>img_1</td>\n",
       "      <td>2517.0</td>\n",
       "      <td>2234.0</td>\n",
       "      <td>2523.0</td>\n",
       "      <td>2205.0</td>\n",
       "      <td>2404.3930</td>\n",
       "      <td>1811.7423</td>\n",
       "      <td>2401.4902</td>\n",
       "      <td>...</td>\n",
       "      <td>-99.496105</td>\n",
       "      <td>-99.960548</td>\n",
       "      <td>-99.953033</td>\n",
       "      <td>0.50</td>\n",
       "      <td>0.333333</td>\n",
       "      <td>0.25</td>\n",
       "      <td>0.000000</td>\n",
       "      <td>-1105</td>\n",
       "      <td>1105</td>\n",
       "      <td>352.4506</td>\n",
       "    </tr>\n",
       "    <tr>\n",
       "      <th>2</th>\n",
       "      <td>2</td>\n",
       "      <td>20</td>\n",
       "      <td>img_2</td>\n",
       "      <td>3650.5</td>\n",
       "      <td>2239.0</td>\n",
       "      <td>3642.5</td>\n",
       "      <td>2211.0</td>\n",
       "      <td>3534.5100</td>\n",
       "      <td>1807.4935</td>\n",
       "      <td>3519.4976</td>\n",
       "      <td>...</td>\n",
       "      <td>24.035767</td>\n",
       "      <td>23.642834</td>\n",
       "      <td>23.688282</td>\n",
       "      <td>0.75</td>\n",
       "      <td>0.333333</td>\n",
       "      <td>0.25</td>\n",
       "      <td>0.000000</td>\n",
       "      <td>-1105</td>\n",
       "      <td>1105</td>\n",
       "      <td>113.7214</td>\n",
       "    </tr>\n",
       "    <tr>\n",
       "      <th>3</th>\n",
       "      <td>3</td>\n",
       "      <td>18</td>\n",
       "      <td>img_3</td>\n",
       "      <td>1374.0</td>\n",
       "      <td>1320.0</td>\n",
       "      <td>1390.5</td>\n",
       "      <td>1305.0</td>\n",
       "      <td>1246.2526</td>\n",
       "      <td>895.0847</td>\n",
       "      <td>1255.4397</td>\n",
       "      <td>...</td>\n",
       "      <td>NaN</td>\n",
       "      <td>NaN</td>\n",
       "      <td>NaN</td>\n",
       "      <td>0.25</td>\n",
       "      <td>0.666667</td>\n",
       "      <td>-0.50</td>\n",
       "      <td>0.333333</td>\n",
       "      <td>3104</td>\n",
       "      <td>-1319</td>\n",
       "      <td>174.7001</td>\n",
       "    </tr>\n",
       "    <tr>\n",
       "      <th>4</th>\n",
       "      <td>4</td>\n",
       "      <td>15</td>\n",
       "      <td>img_4</td>\n",
       "      <td>2510.5</td>\n",
       "      <td>1312.5</td>\n",
       "      <td>2517.5</td>\n",
       "      <td>1299.5</td>\n",
       "      <td>2390.4072</td>\n",
       "      <td>882.0541</td>\n",
       "      <td>2388.2563</td>\n",
       "      <td>...</td>\n",
       "      <td>-122.599206</td>\n",
       "      <td>-122.718506</td>\n",
       "      <td>-122.930870</td>\n",
       "      <td>0.50</td>\n",
       "      <td>0.666667</td>\n",
       "      <td>0.25</td>\n",
       "      <td>0.000000</td>\n",
       "      <td>-1105</td>\n",
       "      <td>1105</td>\n",
       "      <td>328.2257</td>\n",
       "    </tr>\n",
       "  </tbody>\n",
       "</table>\n",
       "<p>5 rows × 30 columns</p>\n",
       "</div>"
      ],
      "text/plain": [
       "   img_num  target_aruco img_name  carriage_x_dist  carriage_y_dist  \\\n",
       "0        0            17    img_0           1379.5           2236.5   \n",
       "1        1            21    img_1           2517.0           2234.0   \n",
       "2        2            20    img_2           3650.5           2239.0   \n",
       "3        3            18    img_3           1374.0           1320.0   \n",
       "4        4            15    img_4           2510.5           1312.5   \n",
       "\n",
       "   carriage_x_undist  carriage_y_undist  carriage_x_dist_warp  \\\n",
       "0             1396.0             2211.0             1260.7062   \n",
       "1             2523.0             2205.0             2404.3930   \n",
       "2             3642.5             2211.0             3534.5100   \n",
       "3             1390.5             1305.0             1246.2526   \n",
       "4             2517.5             1299.5             2390.4072   \n",
       "\n",
       "   carriage_y_dist_warp  carriage_x_undist_warp  ...  angle_undist  \\\n",
       "0             1823.6497               1270.2755  ...     73.073723   \n",
       "1             1811.7423               2401.4902  ...    -99.496105   \n",
       "2             1807.4935               3519.4976  ...     24.035767   \n",
       "3              895.0847               1255.4397  ...           NaN   \n",
       "4              882.0541               2388.2563  ...   -122.599206   \n",
       "\n",
       "   angle_dist_warp  angle_undist_warp  point_x   point_y  incr_x    incr_y  \\\n",
       "0        72.321121          72.494843     0.25  0.333333    0.25  0.333333   \n",
       "1       -99.960548         -99.953033     0.50  0.333333    0.25  0.000000   \n",
       "2        23.642834          23.688282     0.75  0.333333    0.25  0.000000   \n",
       "3              NaN                NaN     0.25  0.666667   -0.50  0.333333   \n",
       "4      -122.718506        -122.930870     0.50  0.666667    0.25  0.000000   \n",
       "\n",
       "   steps1  steps2     angle  \n",
       "0    -213    1998  155.6862  \n",
       "1   -1105    1105  352.4506  \n",
       "2   -1105    1105  113.7214  \n",
       "3    3104   -1319  174.7001  \n",
       "4   -1105    1105  328.2257  \n",
       "\n",
       "[5 rows x 30 columns]"
      ]
     },
     "execution_count": 2,
     "metadata": {},
     "output_type": "execute_result"
    }
   ],
   "source": [
    "import pandas as pd\n",
    "import numpy as np\n",
    "df = pd.read_csv('./results/calibration_dof_to_step.csv', sep=',',decimal='.')\n",
    "df.head()"
   ]
  },
  {
   "attachments": {},
   "cell_type": "markdown",
   "metadata": {},
   "source": [
    "# Analytic calibration"
   ]
  },
  {
   "cell_type": "code",
   "execution_count": 4,
   "metadata": {},
   "outputs": [],
   "source": [
    "from pool.calibration import CameraCalibration\n",
    "calib=CameraCalibration()\n",
    "l_carriage_pred=[]\n",
    "a=8.906e-01  \n",
    "b=3.539e+00  \n",
    "d=1.160e+00  \n",
    "h=8.054e+00  \n",
    "\n",
    "for index, row in df.iterrows():\n",
    "\n",
    "    target=row[['target_x_undist','target_y_undist']].values\n",
    "    angle=row[['angle']].values[0]-90\n",
    "    carriage_pred = calib.predict_carriage_position_in_image_plane(target, angle, (a,b,d,h))\n",
    "    l_carriage_pred.append(carriage_pred)\n",
    "\n",
    "y_true=df[['carriage_x_undist','carriage_y_undist']].values\n",
    "y_pred=np.array(l_carriage_pred)"
   ]
  },
  {
   "cell_type": "code",
   "execution_count": 5,
   "metadata": {},
   "outputs": [
    {
     "name": "stdout",
     "output_type": "stream",
     "text": [
      "5.952580219574759 0.9998929482455149\n"
     ]
    }
   ],
   "source": [
    "from sklearn.metrics import r2_score, mean_squared_error\n",
    "print(mean_squared_error(y_true,y_pred,squared=False),r2_score(y_true,y_pred))"
   ]
  },
  {
   "cell_type": "code",
   "execution_count": 8,
   "metadata": {},
   "outputs": [
    {
     "data": {
      "text/plain": [
       "Text(0.5, 1.0, 'true vs predicted')"
      ]
     },
     "execution_count": 8,
     "metadata": {},
     "output_type": "execute_result"
    },
    {
     "data": {
      "image/png": "[encoded data removed]",
      "text/plain": [
       "<Figure size 1000x800 with 1 Axes>"
      ]
     },
     "metadata": {},
     "output_type": "display_data"
    }
   ],
   "source": [
    "import matplotlib.pyplot as plt\n",
    "plt.figure(figsize=(10,8))\n",
    "plt.scatter(y_true,y_pred)\n",
    "plt.plot(y_pred, y_pred, color = 'red')\n",
    "plt.xlabel('true position')\n",
    "plt.ylabel('predicted position')\n",
    "plt.title('true vs predicted')"
   ]
  },
  {
   "cell_type": "code",
   "execution_count": 10,
   "metadata": {},
   "outputs": [],
   "source": [
    "df_error=pd.DataFrame({'pred_x':y_pred[:,0],\n",
    "                       'pred_y':y_pred[:,1],\n",
    "                       'real_x':y_true[:,0],\n",
    "                       'real_y':y_true[:,1],\n",
    "                       'target_aruco': df['target_aruco'],\n",
    "                       'angle': df['angle_undist']})\n",
    "df_error['error_x']=y_pred[:,0]-y_true[:,0]\n",
    "df_error['error_y']=y_pred[:,1]-y_true[:,1]\n",
    "df_error['error']=np.sqrt(df_error['error_x'].values**2+df_error['error_y'].values**2)"
   ]
  },
  {
   "cell_type": "code",
   "execution_count": 11,
   "metadata": {},
   "outputs": [
    {
     "name": "stdout",
     "output_type": "stream",
     "text": [
      "7.980973200530232 8.418227369902194 2.67780111729543\n"
     ]
    }
   ],
   "source": [
    "mean_error=np.mean(df_error['error'])\n",
    "std_error=np.std(df_error['error'])\n",
    "rmse=np.sqrt(np.sum(df_error['error']**2)/df_error['error'].shape[0])\n",
    "print(mean_error, rmse, std_error)"
   ]
  }
 ],
 "metadata": {
  "kernelspec": {
   "display_name": "Python 3",
   "language": "python",
   "name": "python3"
  },
  "language_info": {
   "codemirror_mode": {
    "name": "ipython",
    "version": 3
   },
   "file_extension": ".py",
   "mimetype": "text/x-python",
   "name": "python",
   "nbconvert_exporter": "python",
   "pygments_lexer": "ipython3",
   "version": "3.11.2"
  },
  "orig_nbformat": 4
 },
 "nbformat": 4,
 "nbformat_minor": 2
}
