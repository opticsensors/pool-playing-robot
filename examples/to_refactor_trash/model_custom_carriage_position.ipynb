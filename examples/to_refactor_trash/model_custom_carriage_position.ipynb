{
 "cells": [
  {
   "attachments": {},
   "cell_type": "markdown",
   "metadata": {},
   "source": [
    "# Load Dataset"
   ]
  },
  {
   "cell_type": "code",
   "execution_count": 1137,
   "metadata": {},
   "outputs": [
    {
     "data": {
      "text/html": [
       "<div>\n",
       "<style scoped>\n",
       "    .dataframe tbody tr th:only-of-type {\n",
       "        vertical-align: middle;\n",
       "    }\n",
       "\n",
       "    .dataframe tbody tr th {\n",
       "        vertical-align: top;\n",
       "    }\n",
       "\n",
       "    .dataframe thead th {\n",
       "        text-align: right;\n",
       "    }\n",
       "</style>\n",
       "<table border=\"1\" class=\"dataframe\">\n",
       "  <thead>\n",
       "    <tr style=\"text-align: right;\">\n",
       "      <th></th>\n",
       "      <th>img_num</th>\n",
       "      <th>target_aruco</th>\n",
       "      <th>img_name</th>\n",
       "      <th>carriage_x_dist</th>\n",
       "      <th>carriage_y_dist</th>\n",
       "      <th>carriage_x_undist</th>\n",
       "      <th>carriage_y_undist</th>\n",
       "      <th>carriage_x_dist_warp</th>\n",
       "      <th>carriage_y_dist_warp</th>\n",
       "      <th>carriage_x_undist_warp</th>\n",
       "      <th>...</th>\n",
       "      <th>target_x_undist_warp</th>\n",
       "      <th>target_y_undist_warp</th>\n",
       "      <th>angle_dist</th>\n",
       "      <th>angle_undist</th>\n",
       "      <th>angle_dist_warp</th>\n",
       "      <th>angle_undist_warp</th>\n",
       "      <th>aruco_flipper_76_x</th>\n",
       "      <th>aruco_flipper_76_y</th>\n",
       "      <th>aruco_flipper_77_x</th>\n",
       "      <th>aruco_flipper_77_y</th>\n",
       "    </tr>\n",
       "  </thead>\n",
       "  <tbody>\n",
       "    <tr>\n",
       "      <th>0</th>\n",
       "      <td>1</td>\n",
       "      <td>13</td>\n",
       "      <td>img_1</td>\n",
       "      <td>544.5</td>\n",
       "      <td>992.5</td>\n",
       "      <td>553.0</td>\n",
       "      <td>977.0</td>\n",
       "      <td>400.31912</td>\n",
       "      <td>562.67110</td>\n",
       "      <td>404.95688</td>\n",
       "      <td>...</td>\n",
       "      <td>1075.6592</td>\n",
       "      <td>533.5369</td>\n",
       "      <td>-45.318967</td>\n",
       "      <td>-44.965699</td>\n",
       "      <td>-45.724640</td>\n",
       "      <td>-45.371082</td>\n",
       "      <td>787.5</td>\n",
       "      <td>1216.5</td>\n",
       "      <td>872.5</td>\n",
       "      <td>1132.5</td>\n",
       "    </tr>\n",
       "    <tr>\n",
       "      <th>1</th>\n",
       "      <td>2</td>\n",
       "      <td>13</td>\n",
       "      <td>img_2</td>\n",
       "      <td>766.5</td>\n",
       "      <td>1279.0</td>\n",
       "      <td>779.5</td>\n",
       "      <td>1263.0</td>\n",
       "      <td>628.63520</td>\n",
       "      <td>853.44150</td>\n",
       "      <td>636.84656</td>\n",
       "      <td>...</td>\n",
       "      <td>1075.6592</td>\n",
       "      <td>533.5369</td>\n",
       "      <td>-80.865582</td>\n",
       "      <td>-81.058877</td>\n",
       "      <td>-81.381218</td>\n",
       "      <td>-81.594101</td>\n",
       "      <td>1040.0</td>\n",
       "      <td>1397.0</td>\n",
       "      <td>1061.5</td>\n",
       "      <td>1264.0</td>\n",
       "    </tr>\n",
       "    <tr>\n",
       "      <th>2</th>\n",
       "      <td>3</td>\n",
       "      <td>13</td>\n",
       "      <td>img_3</td>\n",
       "      <td>1098.0</td>\n",
       "      <td>1389.0</td>\n",
       "      <td>1113.5</td>\n",
       "      <td>1372.5</td>\n",
       "      <td>965.78076</td>\n",
       "      <td>963.85480</td>\n",
       "      <td>975.10920</td>\n",
       "      <td>...</td>\n",
       "      <td>1075.6592</td>\n",
       "      <td>533.5369</td>\n",
       "      <td>-112.082651</td>\n",
       "      <td>-112.521870</td>\n",
       "      <td>-112.468086</td>\n",
       "      <td>-112.970047</td>\n",
       "      <td>1335.0</td>\n",
       "      <td>1408.0</td>\n",
       "      <td>1278.5</td>\n",
       "      <td>1272.0</td>\n",
       "    </tr>\n",
       "    <tr>\n",
       "      <th>3</th>\n",
       "      <td>4</td>\n",
       "      <td>13</td>\n",
       "      <td>img_4</td>\n",
       "      <td>1514.0</td>\n",
       "      <td>1196.5</td>\n",
       "      <td>1530.0</td>\n",
       "      <td>1183.5</td>\n",
       "      <td>1384.80680</td>\n",
       "      <td>766.92880</td>\n",
       "      <td>1393.20030</td>\n",
       "      <td>...</td>\n",
       "      <td>1075.6592</td>\n",
       "      <td>533.5369</td>\n",
       "      <td>-151.987874</td>\n",
       "      <td>-152.078318</td>\n",
       "      <td>-152.130371</td>\n",
       "      <td>-152.306992</td>\n",
       "      <td>1060.0</td>\n",
       "      <td>854.0</td>\n",
       "      <td>749.0</td>\n",
       "      <td>689.0</td>\n",
       "    </tr>\n",
       "    <tr>\n",
       "      <th>4</th>\n",
       "      <td>5</td>\n",
       "      <td>13</td>\n",
       "      <td>img_5</td>\n",
       "      <td>1514.5</td>\n",
       "      <td>398.5</td>\n",
       "      <td>1527.0</td>\n",
       "      <td>392.0</td>\n",
       "      <td>1378.65440</td>\n",
       "      <td>-43.00896</td>\n",
       "      <td>1383.22790</td>\n",
       "      <td>...</td>\n",
       "      <td>1075.6592</td>\n",
       "      <td>533.5369</td>\n",
       "      <td>132.190351</td>\n",
       "      <td>132.707685</td>\n",
       "      <td>131.770874</td>\n",
       "      <td>132.289185</td>\n",
       "      <td>749.0</td>\n",
       "      <td>1265.0</td>\n",
       "      <td>857.5</td>\n",
       "      <td>1148.0</td>\n",
       "    </tr>\n",
       "  </tbody>\n",
       "</table>\n",
       "<p>5 rows × 27 columns</p>\n",
       "</div>"
      ],
      "text/plain": [
       "   img_num  target_aruco img_name  carriage_x_dist  carriage_y_dist  \\\n",
       "0        1            13    img_1            544.5            992.5   \n",
       "1        2            13    img_2            766.5           1279.0   \n",
       "2        3            13    img_3           1098.0           1389.0   \n",
       "3        4            13    img_4           1514.0           1196.5   \n",
       "4        5            13    img_5           1514.5            398.5   \n",
       "\n",
       "   carriage_x_undist  carriage_y_undist  carriage_x_dist_warp  \\\n",
       "0              553.0              977.0             400.31912   \n",
       "1              779.5             1263.0             628.63520   \n",
       "2             1113.5             1372.5             965.78076   \n",
       "3             1530.0             1183.5            1384.80680   \n",
       "4             1527.0              392.0            1378.65440   \n",
       "\n",
       "   carriage_y_dist_warp  carriage_x_undist_warp  ...  target_x_undist_warp  \\\n",
       "0             562.67110               404.95688  ...             1075.6592   \n",
       "1             853.44150               636.84656  ...             1075.6592   \n",
       "2             963.85480               975.10920  ...             1075.6592   \n",
       "3             766.92880              1393.20030  ...             1075.6592   \n",
       "4             -43.00896              1383.22790  ...             1075.6592   \n",
       "\n",
       "   target_y_undist_warp  angle_dist  angle_undist  angle_dist_warp  \\\n",
       "0              533.5369  -45.318967    -44.965699       -45.724640   \n",
       "1              533.5369  -80.865582    -81.058877       -81.381218   \n",
       "2              533.5369 -112.082651   -112.521870      -112.468086   \n",
       "3              533.5369 -151.987874   -152.078318      -152.130371   \n",
       "4              533.5369  132.190351    132.707685       131.770874   \n",
       "\n",
       "   angle_undist_warp  aruco_flipper_76_x  aruco_flipper_76_y  \\\n",
       "0         -45.371082               787.5              1216.5   \n",
       "1         -81.594101              1040.0              1397.0   \n",
       "2        -112.970047              1335.0              1408.0   \n",
       "3        -152.306992              1060.0               854.0   \n",
       "4         132.289185               749.0              1265.0   \n",
       "\n",
       "   aruco_flipper_77_x  aruco_flipper_77_y  \n",
       "0               872.5              1132.5  \n",
       "1              1061.5              1264.0  \n",
       "2              1278.5              1272.0  \n",
       "3               749.0               689.0  \n",
       "4               857.5              1148.0  \n",
       "\n",
       "[5 rows x 27 columns]"
      ]
     },
     "execution_count": 1137,
     "metadata": {},
     "output_type": "execute_result"
    }
   ],
   "source": [
    "import pandas as pd\n",
    "import numpy as np\n",
    "df = pd.read_csv('./results/calibration_image_data.csv', sep=',',decimal='.')\n",
    "df.head()"
   ]
  },
  {
   "attachments": {},
   "cell_type": "markdown",
   "metadata": {},
   "source": [
    "# Select desired columns"
   ]
  },
  {
   "cell_type": "code",
   "execution_count": 1138,
   "metadata": {},
   "outputs": [],
   "source": [
    "x = df[['target_x_undist', 'target_y_undist','angle_undist']]\n",
    "y = df[['carriage_x_undist','carriage_y_undist']]"
   ]
  },
  {
   "cell_type": "code",
   "execution_count": 1139,
   "metadata": {},
   "outputs": [],
   "source": [
    "x = x.rename(columns={'target_x_undist':  'x', \n",
    "                      'target_y_undist':  'y',\n",
    "                      'angle_undist': 'angle',\n",
    "})  \n",
    "y = y.rename(columns={'carriage_x_undist':  'x_carriage', \n",
    "                     'carriage_y_undist':  'y_carriage',\n",
    "})  \n",
    "\n",
    "#y=y['x_carriage']\n",
    "#y=y['y_carriage']"
   ]
  },
  {
   "attachments": {},
   "cell_type": "markdown",
   "metadata": {},
   "source": [
    "# Normalize Dataset"
   ]
  },
  {
   "cell_type": "code",
   "execution_count": 1140,
   "metadata": {},
   "outputs": [],
   "source": [
    "max_x=5184\n",
    "max_y=3456\n",
    "max_angle=180\n",
    "\n",
    "x['x']=x['x']/max_x\n",
    "x['y']=x['y']/max_y\n",
    "real_angle=x['angle'].copy()\n",
    "x['angle']=x['angle']/max_angle\n"
   ]
  },
  {
   "attachments": {},
   "cell_type": "markdown",
   "metadata": {},
   "source": [
    "# Add custom columns dataset"
   ]
  },
  {
   "cell_type": "code",
   "execution_count": 1141,
   "metadata": {},
   "outputs": [],
   "source": [
    "#x['x2']=x['x']**2\n",
    "#x['y2']=x['y']**2\n",
    "#x['xy']=x['x']*x['y']\n",
    "#x['sqrt x']=np.sqrt(x['x'])\n",
    "#x['sqrt y']=np.sqrt(x['y'])\n",
    "#x['1/x']=1/(x['x'])\n",
    "#x['1/y']=1/(x['y'])\n",
    "#x['1/x2']=1/(x['x2'])\n",
    "#x['1/y2']=1/(x['y2'])\n",
    "#x['1/xy']=1/(x['xy'])\n",
    "#x['log x']=np.log(x['x'])\n",
    "#x['log y']=np.log(x['y'])\n",
    "#x['exp x']=np.exp(x['x'])\n",
    "#x['exp y']=np.exp(x['y'])\n",
    "x['cos']=np.cos(real_angle*np.pi/180)\n",
    "x['sin']=np.sin(real_angle*np.pi/180)\n",
    "x['cos2']=x['cos']**2\n",
    "x['sin2']=x['sin']**2\n",
    "x['1/cos']=1/x['cos']\n",
    "x['1/sin']=1/x['sin']\n",
    "x=x.drop(columns=['angle'])\n",
    "#x=x.drop(columns=['x'])\n",
    "#x=x.drop(columns=['y'])"
   ]
  },
  {
   "attachments": {},
   "cell_type": "markdown",
   "metadata": {},
   "source": [
    "# Split Dataset"
   ]
  },
  {
   "cell_type": "code",
   "execution_count": 1142,
   "metadata": {},
   "outputs": [],
   "source": [
    "from sklearn.model_selection import train_test_split\n",
    "x_train,x_test,y_train,y_test= train_test_split(x,y,test_size=0.2)"
   ]
  },
  {
   "attachments": {},
   "cell_type": "markdown",
   "metadata": {},
   "source": [
    "# Linear regressor"
   ]
  },
  {
   "cell_type": "code",
   "execution_count": 1143,
   "metadata": {},
   "outputs": [],
   "source": [
    "from sklearn import linear_model\n",
    "model=linear_model.LinearRegression()\n",
    "model.fit(x_train,y_train)\n",
    "\n",
    "y_pred=model.predict(x_test)"
   ]
  },
  {
   "cell_type": "code",
   "execution_count": 1144,
   "metadata": {},
   "outputs": [
    {
     "name": "stdout",
     "output_type": "stream",
     "text": [
      "27.656190270170576 0.9992089641062226\n"
     ]
    }
   ],
   "source": [
    "from sklearn.metrics import r2_score, mean_squared_error\n",
    "print(mean_squared_error(y_test,y_pred,squared=False),r2_score(y_test,y_pred))"
   ]
  },
  {
   "cell_type": "code",
   "execution_count": 1145,
   "metadata": {},
   "outputs": [
    {
     "data": {
      "text/plain": [
       "Text(0.5, 1.0, 'true vs predicted')"
      ]
     },
     "execution_count": 1145,
     "metadata": {},
     "output_type": "execute_result"
    },
    {
     "data": {
      "image/png": "[encoded data removed]",
      "text/plain": [
       "<Figure size 1000x800 with 1 Axes>"
      ]
     },
     "metadata": {},
     "output_type": "display_data"
    }
   ],
   "source": [
    "import matplotlib.pyplot as plt\n",
    "plt.figure(figsize=(10,8))\n",
    "plt.scatter(y_test,y_pred)\n",
    "plt.plot(y_pred, y_pred, color = 'red')\n",
    "plt.xlabel('true position')\n",
    "plt.ylabel('predicted position')\n",
    "plt.title('true vs predicted')"
   ]
  },
  {
   "cell_type": "code",
   "execution_count": 1146,
   "metadata": {},
   "outputs": [
    {
     "ename": "ValueError",
     "evalue": "shapes (107,2) and (107,2) not aligned: 2 (dim 1) != 107 (dim 0)",
     "output_type": "error",
     "traceback": [
      "\u001b[1;31m---------------------------------------------------------------------------\u001b[0m",
      "\u001b[1;31mValueError\u001b[0m                                Traceback (most recent call last)",
      "Cell \u001b[1;32mIn[1146], line 6\u001b[0m\n\u001b[0;32m      4\u001b[0m est \u001b[39m=\u001b[39m sm\u001b[39m.\u001b[39mOLS(y, X2)\n\u001b[0;32m      5\u001b[0m est2 \u001b[39m=\u001b[39m est\u001b[39m.\u001b[39mfit()\n\u001b[1;32m----> 6\u001b[0m \u001b[39mprint\u001b[39m(est2\u001b[39m.\u001b[39;49msummary())\n",
      "File \u001b[1;32mc:\\Users\\usuario\\AppData\\Local\\Programs\\Python\\Python311\\Lib\\site-packages\\statsmodels\\regression\\linear_model.py:2774\u001b[0m, in \u001b[0;36mRegressionResults.summary\u001b[1;34m(self, yname, xname, title, alpha, slim)\u001b[0m\n\u001b[0;32m   2770\u001b[0m     top_left\u001b[39m.\u001b[39mappend((\u001b[39m'\u001b[39m\u001b[39mCovariance Type:\u001b[39m\u001b[39m'\u001b[39m, [\u001b[39mself\u001b[39m\u001b[39m.\u001b[39mcov_type]))\n\u001b[0;32m   2772\u001b[0m rsquared_type \u001b[39m=\u001b[39m \u001b[39m'\u001b[39m\u001b[39m'\u001b[39m \u001b[39mif\u001b[39;00m \u001b[39mself\u001b[39m\u001b[39m.\u001b[39mk_constant \u001b[39melse\u001b[39;00m \u001b[39m'\u001b[39m\u001b[39m (uncentered)\u001b[39m\u001b[39m'\u001b[39m\n\u001b[0;32m   2773\u001b[0m top_right \u001b[39m=\u001b[39m [(\u001b[39m'\u001b[39m\u001b[39mR-squared\u001b[39m\u001b[39m'\u001b[39m \u001b[39m+\u001b[39m rsquared_type \u001b[39m+\u001b[39m \u001b[39m'\u001b[39m\u001b[39m:\u001b[39m\u001b[39m'\u001b[39m,\n\u001b[1;32m-> 2774\u001b[0m               [\u001b[39m\"\u001b[39m\u001b[39m%#8.3f\u001b[39;00m\u001b[39m\"\u001b[39m \u001b[39m%\u001b[39m \u001b[39mself\u001b[39;49m\u001b[39m.\u001b[39;49mrsquared]),\n\u001b[0;32m   2775\u001b[0m              (\u001b[39m'\u001b[39m\u001b[39mAdj. R-squared\u001b[39m\u001b[39m'\u001b[39m \u001b[39m+\u001b[39m rsquared_type \u001b[39m+\u001b[39m \u001b[39m'\u001b[39m\u001b[39m:\u001b[39m\u001b[39m'\u001b[39m,\n\u001b[0;32m   2776\u001b[0m               [\u001b[39m\"\u001b[39m\u001b[39m%#8.3f\u001b[39;00m\u001b[39m\"\u001b[39m \u001b[39m%\u001b[39m \u001b[39mself\u001b[39m\u001b[39m.\u001b[39mrsquared_adj]),\n\u001b[0;32m   2777\u001b[0m              (\u001b[39m'\u001b[39m\u001b[39mF-statistic:\u001b[39m\u001b[39m'\u001b[39m, [\u001b[39m\"\u001b[39m\u001b[39m%#8.4g\u001b[39;00m\u001b[39m\"\u001b[39m \u001b[39m%\u001b[39m \u001b[39mself\u001b[39m\u001b[39m.\u001b[39mfvalue]),\n\u001b[0;32m   2778\u001b[0m              (\u001b[39m'\u001b[39m\u001b[39mProb (F-statistic):\u001b[39m\u001b[39m'\u001b[39m, [\u001b[39m\"\u001b[39m\u001b[39m%#6.3g\u001b[39;00m\u001b[39m\"\u001b[39m \u001b[39m%\u001b[39m \u001b[39mself\u001b[39m\u001b[39m.\u001b[39mf_pvalue]),\n\u001b[0;32m   2779\u001b[0m              (\u001b[39m'\u001b[39m\u001b[39mLog-Likelihood:\u001b[39m\u001b[39m'\u001b[39m, \u001b[39mNone\u001b[39;00m),\n\u001b[0;32m   2780\u001b[0m              (\u001b[39m'\u001b[39m\u001b[39mAIC:\u001b[39m\u001b[39m'\u001b[39m, [\u001b[39m\"\u001b[39m\u001b[39m%#8.4g\u001b[39;00m\u001b[39m\"\u001b[39m \u001b[39m%\u001b[39m \u001b[39mself\u001b[39m\u001b[39m.\u001b[39maic]),\n\u001b[0;32m   2781\u001b[0m              (\u001b[39m'\u001b[39m\u001b[39mBIC:\u001b[39m\u001b[39m'\u001b[39m, [\u001b[39m\"\u001b[39m\u001b[39m%#8.4g\u001b[39;00m\u001b[39m\"\u001b[39m \u001b[39m%\u001b[39m \u001b[39mself\u001b[39m\u001b[39m.\u001b[39mbic])\n\u001b[0;32m   2782\u001b[0m              ]\n\u001b[0;32m   2784\u001b[0m \u001b[39mif\u001b[39;00m slim:\n\u001b[0;32m   2785\u001b[0m     slimlist \u001b[39m=\u001b[39m [\u001b[39m'\u001b[39m\u001b[39mDep. Variable:\u001b[39m\u001b[39m'\u001b[39m, \u001b[39m'\u001b[39m\u001b[39mModel:\u001b[39m\u001b[39m'\u001b[39m, \u001b[39m'\u001b[39m\u001b[39mNo. Observations:\u001b[39m\u001b[39m'\u001b[39m,\n\u001b[0;32m   2786\u001b[0m                 \u001b[39m'\u001b[39m\u001b[39mCovariance Type:\u001b[39m\u001b[39m'\u001b[39m, \u001b[39m'\u001b[39m\u001b[39mR-squared:\u001b[39m\u001b[39m'\u001b[39m, \u001b[39m'\u001b[39m\u001b[39mAdj. R-squared:\u001b[39m\u001b[39m'\u001b[39m,\n\u001b[0;32m   2787\u001b[0m                 \u001b[39m'\u001b[39m\u001b[39mF-statistic:\u001b[39m\u001b[39m'\u001b[39m, \u001b[39m'\u001b[39m\u001b[39mProb (F-statistic):\u001b[39m\u001b[39m'\u001b[39m]\n",
      "File \u001b[1;32mc:\\Users\\usuario\\AppData\\Local\\Programs\\Python\\Python311\\Lib\\site-packages\\pandas\\_libs\\properties.pyx:36\u001b[0m, in \u001b[0;36mpandas._libs.properties.CachedProperty.__get__\u001b[1;34m()\u001b[0m\n",
      "File \u001b[1;32mc:\\Users\\usuario\\AppData\\Local\\Programs\\Python\\Python311\\Lib\\site-packages\\statsmodels\\regression\\linear_model.py:1781\u001b[0m, in \u001b[0;36mRegressionResults.rsquared\u001b[1;34m(self)\u001b[0m\n\u001b[0;32m   1773\u001b[0m \u001b[39m\u001b[39m\u001b[39m\"\"\"\u001b[39;00m\n\u001b[0;32m   1774\u001b[0m \u001b[39mR-squared of the model.\u001b[39;00m\n\u001b[0;32m   1775\u001b[0m \n\u001b[1;32m   (...)\u001b[0m\n\u001b[0;32m   1778\u001b[0m \u001b[39momitted.\u001b[39;00m\n\u001b[0;32m   1779\u001b[0m \u001b[39m\"\"\"\u001b[39;00m\n\u001b[0;32m   1780\u001b[0m \u001b[39mif\u001b[39;00m \u001b[39mself\u001b[39m\u001b[39m.\u001b[39mk_constant:\n\u001b[1;32m-> 1781\u001b[0m     \u001b[39mreturn\u001b[39;00m \u001b[39m1\u001b[39m \u001b[39m-\u001b[39m \u001b[39mself\u001b[39;49m\u001b[39m.\u001b[39;49mssr\u001b[39m/\u001b[39m\u001b[39mself\u001b[39m\u001b[39m.\u001b[39mcentered_tss\n\u001b[0;32m   1782\u001b[0m \u001b[39melse\u001b[39;00m:\n\u001b[0;32m   1783\u001b[0m     \u001b[39mreturn\u001b[39;00m \u001b[39m1\u001b[39m \u001b[39m-\u001b[39m \u001b[39mself\u001b[39m\u001b[39m.\u001b[39mssr\u001b[39m/\u001b[39m\u001b[39mself\u001b[39m\u001b[39m.\u001b[39muncentered_tss\n",
      "File \u001b[1;32mc:\\Users\\usuario\\AppData\\Local\\Programs\\Python\\Python311\\Lib\\site-packages\\pandas\\_libs\\properties.pyx:36\u001b[0m, in \u001b[0;36mpandas._libs.properties.CachedProperty.__get__\u001b[1;34m()\u001b[0m\n",
      "File \u001b[1;32mc:\\Users\\usuario\\AppData\\Local\\Programs\\Python\\Python311\\Lib\\site-packages\\statsmodels\\regression\\linear_model.py:1722\u001b[0m, in \u001b[0;36mRegressionResults.ssr\u001b[1;34m(self)\u001b[0m\n\u001b[0;32m   1720\u001b[0m \u001b[39m\u001b[39m\u001b[39m\"\"\"Sum of squared (whitened) residuals.\"\"\"\u001b[39;00m\n\u001b[0;32m   1721\u001b[0m wresid \u001b[39m=\u001b[39m \u001b[39mself\u001b[39m\u001b[39m.\u001b[39mwresid\n\u001b[1;32m-> 1722\u001b[0m \u001b[39mreturn\u001b[39;00m np\u001b[39m.\u001b[39;49mdot(wresid, wresid)\n",
      "File \u001b[1;32m<__array_function__ internals>:180\u001b[0m, in \u001b[0;36mdot\u001b[1;34m(*args, **kwargs)\u001b[0m\n",
      "\u001b[1;31mValueError\u001b[0m: shapes (107,2) and (107,2) not aligned: 2 (dim 1) != 107 (dim 0)"
     ]
    }
   ],
   "source": [
    "import statsmodels.api as sm\n",
    "\n",
    "X2 = sm.add_constant(x)\n",
    "est = sm.OLS(y, X2)\n",
    "est2 = est.fit()\n",
    "print(est2.summary())"
   ]
  },
  {
   "cell_type": "code",
   "execution_count": null,
   "metadata": {},
   "outputs": [
    {
     "data": {
      "text/plain": [
       "(107,)"
      ]
     },
     "execution_count": 1136,
     "metadata": {},
     "output_type": "execute_result"
    }
   ],
   "source": [
    "y.shape"
   ]
  }
 ],
 "metadata": {
  "kernelspec": {
   "display_name": "Python 3",
   "language": "python",
   "name": "python3"
  },
  "language_info": {
   "codemirror_mode": {
    "name": "ipython",
    "version": 3
   },
   "file_extension": ".py",
   "mimetype": "text/x-python",
   "name": "python",
   "nbconvert_exporter": "python",
   "pygments_lexer": "ipython3",
   "version": "3.11.2"
  },
  "orig_nbformat": 4
 },
 "nbformat": 4,
 "nbformat_minor": 2
}
