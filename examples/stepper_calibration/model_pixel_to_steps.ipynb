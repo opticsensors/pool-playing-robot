{
 "cells": [
  {
   "cell_type": "code",
   "execution_count": 3,
   "metadata": {},
   "outputs": [
    {
     "data": {
      "text/html": [
       "<div>\n",
       "<style scoped>\n",
       "    .dataframe tbody tr th:only-of-type {\n",
       "        vertical-align: middle;\n",
       "    }\n",
       "\n",
       "    .dataframe tbody tr th {\n",
       "        vertical-align: top;\n",
       "    }\n",
       "\n",
       "    .dataframe thead th {\n",
       "        text-align: right;\n",
       "    }\n",
       "</style>\n",
       "<table border=\"1\" class=\"dataframe\">\n",
       "  <thead>\n",
       "    <tr style=\"text-align: right;\">\n",
       "      <th></th>\n",
       "      <th>img_num</th>\n",
       "      <th>img_name</th>\n",
       "      <th>x_dist</th>\n",
       "      <th>y_dist</th>\n",
       "      <th>x_undist</th>\n",
       "      <th>y_undist</th>\n",
       "      <th>x_dist_warp</th>\n",
       "      <th>y_dist_warp</th>\n",
       "      <th>x_undist_warp</th>\n",
       "      <th>y_undist_warp</th>\n",
       "      <th>...</th>\n",
       "      <th>steps2</th>\n",
       "      <th>incr_x_dist</th>\n",
       "      <th>incr_y_dist</th>\n",
       "      <th>incr_x_undist</th>\n",
       "      <th>incr_y_undist</th>\n",
       "      <th>incr_x_dist_warp</th>\n",
       "      <th>incr_y_dist_warp</th>\n",
       "      <th>incr_x_undist_warp</th>\n",
       "      <th>incr_y_undist_warp</th>\n",
       "      <th>incr_id</th>\n",
       "    </tr>\n",
       "  </thead>\n",
       "  <tbody>\n",
       "    <tr>\n",
       "      <th>0</th>\n",
       "      <td>1</td>\n",
       "      <td>img_1</td>\n",
       "      <td>2192.5</td>\n",
       "      <td>1182.0</td>\n",
       "      <td>2204.0</td>\n",
       "      <td>1171.0</td>\n",
       "      <td>2057.5660</td>\n",
       "      <td>829.96594</td>\n",
       "      <td>2061.7744</td>\n",
       "      <td>826.03750</td>\n",
       "      <td>...</td>\n",
       "      <td>3835</td>\n",
       "      <td>1914.0</td>\n",
       "      <td>-1951.5</td>\n",
       "      <td>1927.0</td>\n",
       "      <td>-1940.0</td>\n",
       "      <td>1947.3650</td>\n",
       "      <td>-2027.972000</td>\n",
       "      <td>1954.5604</td>\n",
       "      <td>-2007.070000</td>\n",
       "      <td>0-1</td>\n",
       "    </tr>\n",
       "    <tr>\n",
       "      <th>1</th>\n",
       "      <td>2</td>\n",
       "      <td>img_2</td>\n",
       "      <td>920.0</td>\n",
       "      <td>1184.5</td>\n",
       "      <td>933.5</td>\n",
       "      <td>1169.5</td>\n",
       "      <td>756.3522</td>\n",
       "      <td>830.59985</td>\n",
       "      <td>764.9954</td>\n",
       "      <td>823.32733</td>\n",
       "      <td>...</td>\n",
       "      <td>-1263</td>\n",
       "      <td>-1272.5</td>\n",
       "      <td>2.5</td>\n",
       "      <td>-1270.5</td>\n",
       "      <td>-1.5</td>\n",
       "      <td>-1301.2137</td>\n",
       "      <td>0.633911</td>\n",
       "      <td>-1296.7790</td>\n",
       "      <td>-2.710144</td>\n",
       "      <td>1-2</td>\n",
       "    </tr>\n",
       "    <tr>\n",
       "      <th>2</th>\n",
       "      <td>3</td>\n",
       "      <td>img_3</td>\n",
       "      <td>2838.5</td>\n",
       "      <td>1675.5</td>\n",
       "      <td>2840.5</td>\n",
       "      <td>1656.0</td>\n",
       "      <td>2709.2686</td>\n",
       "      <td>1334.53480</td>\n",
       "      <td>2704.0615</td>\n",
       "      <td>1320.47670</td>\n",
       "      <td>...</td>\n",
       "      <td>1411</td>\n",
       "      <td>1918.5</td>\n",
       "      <td>491.0</td>\n",
       "      <td>1907.0</td>\n",
       "      <td>486.5</td>\n",
       "      <td>1952.9164</td>\n",
       "      <td>503.934940</td>\n",
       "      <td>1939.0662</td>\n",
       "      <td>497.149350</td>\n",
       "      <td>2-3</td>\n",
       "    </tr>\n",
       "    <tr>\n",
       "      <th>3</th>\n",
       "      <td>4</td>\n",
       "      <td>img_4</td>\n",
       "      <td>2185.5</td>\n",
       "      <td>2171.5</td>\n",
       "      <td>2197.5</td>\n",
       "      <td>2144.5</td>\n",
       "      <td>2056.7476</td>\n",
       "      <td>1844.44070</td>\n",
       "      <td>2061.6484</td>\n",
       "      <td>1821.17100</td>\n",
       "      <td>...</td>\n",
       "      <td>-1116</td>\n",
       "      <td>-653.0</td>\n",
       "      <td>496.0</td>\n",
       "      <td>-643.0</td>\n",
       "      <td>488.5</td>\n",
       "      <td>-652.5210</td>\n",
       "      <td>509.905880</td>\n",
       "      <td>-642.4131</td>\n",
       "      <td>500.694340</td>\n",
       "      <td>3-4</td>\n",
       "    </tr>\n",
       "    <tr>\n",
       "      <th>4</th>\n",
       "      <td>5</td>\n",
       "      <td>img_5</td>\n",
       "      <td>4143.0</td>\n",
       "      <td>2683.5</td>\n",
       "      <td>4132.0</td>\n",
       "      <td>2651.5</td>\n",
       "      <td>3998.4870</td>\n",
       "      <td>2344.15870</td>\n",
       "      <td>3983.0376</td>\n",
       "      <td>2316.45500</td>\n",
       "      <td>...</td>\n",
       "      <td>1411</td>\n",
       "      <td>1957.5</td>\n",
       "      <td>512.0</td>\n",
       "      <td>1934.5</td>\n",
       "      <td>507.0</td>\n",
       "      <td>1941.7395</td>\n",
       "      <td>499.718020</td>\n",
       "      <td>1921.3892</td>\n",
       "      <td>495.284060</td>\n",
       "      <td>4-5</td>\n",
       "    </tr>\n",
       "  </tbody>\n",
       "</table>\n",
       "<p>5 rows × 25 columns</p>\n",
       "</div>"
      ],
      "text/plain": [
       "   img_num img_name  x_dist  y_dist  x_undist  y_undist  x_dist_warp  \\\n",
       "0        1    img_1  2192.5  1182.0    2204.0    1171.0    2057.5660   \n",
       "1        2    img_2   920.0  1184.5     933.5    1169.5     756.3522   \n",
       "2        3    img_3  2838.5  1675.5    2840.5    1656.0    2709.2686   \n",
       "3        4    img_4  2185.5  2171.5    2197.5    2144.5    2056.7476   \n",
       "4        5    img_5  4143.0  2683.5    4132.0    2651.5    3998.4870   \n",
       "\n",
       "   y_dist_warp  x_undist_warp  y_undist_warp  ...  steps2  incr_x_dist  \\\n",
       "0    829.96594      2061.7744      826.03750  ...    3835       1914.0   \n",
       "1    830.59985       764.9954      823.32733  ...   -1263      -1272.5   \n",
       "2   1334.53480      2704.0615     1320.47670  ...    1411       1918.5   \n",
       "3   1844.44070      2061.6484     1821.17100  ...   -1116       -653.0   \n",
       "4   2344.15870      3983.0376     2316.45500  ...    1411       1957.5   \n",
       "\n",
       "   incr_y_dist  incr_x_undist  incr_y_undist  incr_x_dist_warp  \\\n",
       "0      -1951.5         1927.0        -1940.0         1947.3650   \n",
       "1          2.5        -1270.5           -1.5        -1301.2137   \n",
       "2        491.0         1907.0          486.5         1952.9164   \n",
       "3        496.0         -643.0          488.5         -652.5210   \n",
       "4        512.0         1934.5          507.0         1941.7395   \n",
       "\n",
       "   incr_y_dist_warp  incr_x_undist_warp  incr_y_undist_warp  incr_id  \n",
       "0      -2027.972000           1954.5604        -2007.070000      0-1  \n",
       "1          0.633911          -1296.7790           -2.710144      1-2  \n",
       "2        503.934940           1939.0662          497.149350      2-3  \n",
       "3        509.905880           -642.4131          500.694340      3-4  \n",
       "4        499.718020           1921.3892          495.284060      4-5  \n",
       "\n",
       "[5 rows x 25 columns]"
      ]
     },
     "execution_count": 3,
     "metadata": {},
     "output_type": "execute_result"
    }
   ],
   "source": [
    "import pandas as pd\n",
    "import numpy as np\n",
    "data = pd.read_csv('./results/data1/calibration_pixel_to_step.csv', sep=',',decimal='.')\n",
    "data.head()"
   ]
  },
  {
   "cell_type": "code",
   "execution_count": 22,
   "metadata": {},
   "outputs": [],
   "source": [
    "y1 = data[['steps1']]\n",
    "y2 = data[['steps2']]\n",
    "X = data[['incr_x_undist_warp', 'incr_y_undist_warp']]"
   ]
  },
  {
   "cell_type": "code",
   "execution_count": 23,
   "metadata": {},
   "outputs": [
    {
     "data": {
      "text/html": [
       "<style>#sk-container-id-6 {color: black;background-color: white;}#sk-container-id-6 pre{padding: 0;}#sk-container-id-6 div.sk-toggleable {background-color: white;}#sk-container-id-6 label.sk-toggleable__label {cursor: pointer;display: block;width: 100%;margin-bottom: 0;padding: 0.3em;box-sizing: border-box;text-align: center;}#sk-container-id-6 label.sk-toggleable__label-arrow:before {content: \"▸\";float: left;margin-right: 0.25em;color: #696969;}#sk-container-id-6 label.sk-toggleable__label-arrow:hover:before {color: black;}#sk-container-id-6 div.sk-estimator:hover label.sk-toggleable__label-arrow:before {color: black;}#sk-container-id-6 div.sk-toggleable__content {max-height: 0;max-width: 0;overflow: hidden;text-align: left;background-color: #f0f8ff;}#sk-container-id-6 div.sk-toggleable__content pre {margin: 0.2em;color: black;border-radius: 0.25em;background-color: #f0f8ff;}#sk-container-id-6 input.sk-toggleable__control:checked~div.sk-toggleable__content {max-height: 200px;max-width: 100%;overflow: auto;}#sk-container-id-6 input.sk-toggleable__control:checked~label.sk-toggleable__label-arrow:before {content: \"▾\";}#sk-container-id-6 div.sk-estimator input.sk-toggleable__control:checked~label.sk-toggleable__label {background-color: #d4ebff;}#sk-container-id-6 div.sk-label input.sk-toggleable__control:checked~label.sk-toggleable__label {background-color: #d4ebff;}#sk-container-id-6 input.sk-hidden--visually {border: 0;clip: rect(1px 1px 1px 1px);clip: rect(1px, 1px, 1px, 1px);height: 1px;margin: -1px;overflow: hidden;padding: 0;position: absolute;width: 1px;}#sk-container-id-6 div.sk-estimator {font-family: monospace;background-color: #f0f8ff;border: 1px dotted black;border-radius: 0.25em;box-sizing: border-box;margin-bottom: 0.5em;}#sk-container-id-6 div.sk-estimator:hover {background-color: #d4ebff;}#sk-container-id-6 div.sk-parallel-item::after {content: \"\";width: 100%;border-bottom: 1px solid gray;flex-grow: 1;}#sk-container-id-6 div.sk-label:hover label.sk-toggleable__label {background-color: #d4ebff;}#sk-container-id-6 div.sk-serial::before {content: \"\";position: absolute;border-left: 1px solid gray;box-sizing: border-box;top: 0;bottom: 0;left: 50%;z-index: 0;}#sk-container-id-6 div.sk-serial {display: flex;flex-direction: column;align-items: center;background-color: white;padding-right: 0.2em;padding-left: 0.2em;position: relative;}#sk-container-id-6 div.sk-item {position: relative;z-index: 1;}#sk-container-id-6 div.sk-parallel {display: flex;align-items: stretch;justify-content: center;background-color: white;position: relative;}#sk-container-id-6 div.sk-item::before, #sk-container-id-6 div.sk-parallel-item::before {content: \"\";position: absolute;border-left: 1px solid gray;box-sizing: border-box;top: 0;bottom: 0;left: 50%;z-index: -1;}#sk-container-id-6 div.sk-parallel-item {display: flex;flex-direction: column;z-index: 1;position: relative;background-color: white;}#sk-container-id-6 div.sk-parallel-item:first-child::after {align-self: flex-end;width: 50%;}#sk-container-id-6 div.sk-parallel-item:last-child::after {align-self: flex-start;width: 50%;}#sk-container-id-6 div.sk-parallel-item:only-child::after {width: 0;}#sk-container-id-6 div.sk-dashed-wrapped {border: 1px dashed gray;margin: 0 0.4em 0.5em 0.4em;box-sizing: border-box;padding-bottom: 0.4em;background-color: white;}#sk-container-id-6 div.sk-label label {font-family: monospace;font-weight: bold;display: inline-block;line-height: 1.2em;}#sk-container-id-6 div.sk-label-container {text-align: center;}#sk-container-id-6 div.sk-container {/* jupyter's `normalize.less` sets `[hidden] { display: none; }` but bootstrap.min.css set `[hidden] { display: none !important; }` so we also need the `!important` here to be able to override the default hidden behavior on the sphinx rendered scikit-learn.org. See: https://github.com/scikit-learn/scikit-learn/issues/21755 */display: inline-block !important;position: relative;}#sk-container-id-6 div.sk-text-repr-fallback {display: none;}</style><div id=\"sk-container-id-6\" class=\"sk-top-container\"><div class=\"sk-text-repr-fallback\"><pre>LinearRegression()</pre><b>In a Jupyter environment, please rerun this cell to show the HTML representation or trust the notebook. <br />On GitHub, the HTML representation is unable to render, please try loading this page with nbviewer.org.</b></div><div class=\"sk-container\" hidden><div class=\"sk-item\"><div class=\"sk-estimator sk-toggleable\"><input class=\"sk-toggleable__control sk-hidden--visually\" id=\"sk-estimator-id-6\" type=\"checkbox\" checked><label for=\"sk-estimator-id-6\" class=\"sk-toggleable__label sk-toggleable__label-arrow\">LinearRegression</label><div class=\"sk-toggleable__content\"><pre>LinearRegression()</pre></div></div></div></div></div>"
      ],
      "text/plain": [
       "LinearRegression()"
      ]
     },
     "execution_count": 23,
     "metadata": {},
     "output_type": "execute_result"
    }
   ],
   "source": [
    "from sklearn import linear_model\n",
    "model1=linear_model.LinearRegression()\n",
    "model1.fit(X,y1)\n",
    "model2=linear_model.LinearRegression()\n",
    "model2.fit(X,y2)"
   ]
  },
  {
   "cell_type": "code",
   "execution_count": 24,
   "metadata": {},
   "outputs": [
    {
     "name": "stdout",
     "output_type": "stream",
     "text": [
      "[[-0.9828089 -0.9752058]] [1.0847649]\n",
      "[[ 0.9810456  -0.96951306]] [-0.19852498]\n"
     ]
    }
   ],
   "source": [
    "print(model1.coef_, model1.intercept_)\n",
    "print(model2.coef_, model2.intercept_)\n"
   ]
  },
  {
   "cell_type": "code",
   "execution_count": 25,
   "metadata": {},
   "outputs": [
    {
     "name": "stdout",
     "output_type": "stream",
     "text": [
      "0.9999865113849776\n",
      "0.9999764349735105\n"
     ]
    }
   ],
   "source": [
    "print(model1.score(X,y1))\n",
    "print(model2.score(X,y2))"
   ]
  },
  {
   "cell_type": "code",
   "execution_count": 9,
   "metadata": {},
   "outputs": [
    {
     "data": {
      "text/html": [
       "<style>#sk-container-id-2 {color: black;background-color: white;}#sk-container-id-2 pre{padding: 0;}#sk-container-id-2 div.sk-toggleable {background-color: white;}#sk-container-id-2 label.sk-toggleable__label {cursor: pointer;display: block;width: 100%;margin-bottom: 0;padding: 0.3em;box-sizing: border-box;text-align: center;}#sk-container-id-2 label.sk-toggleable__label-arrow:before {content: \"▸\";float: left;margin-right: 0.25em;color: #696969;}#sk-container-id-2 label.sk-toggleable__label-arrow:hover:before {color: black;}#sk-container-id-2 div.sk-estimator:hover label.sk-toggleable__label-arrow:before {color: black;}#sk-container-id-2 div.sk-toggleable__content {max-height: 0;max-width: 0;overflow: hidden;text-align: left;background-color: #f0f8ff;}#sk-container-id-2 div.sk-toggleable__content pre {margin: 0.2em;color: black;border-radius: 0.25em;background-color: #f0f8ff;}#sk-container-id-2 input.sk-toggleable__control:checked~div.sk-toggleable__content {max-height: 200px;max-width: 100%;overflow: auto;}#sk-container-id-2 input.sk-toggleable__control:checked~label.sk-toggleable__label-arrow:before {content: \"▾\";}#sk-container-id-2 div.sk-estimator input.sk-toggleable__control:checked~label.sk-toggleable__label {background-color: #d4ebff;}#sk-container-id-2 div.sk-label input.sk-toggleable__control:checked~label.sk-toggleable__label {background-color: #d4ebff;}#sk-container-id-2 input.sk-hidden--visually {border: 0;clip: rect(1px 1px 1px 1px);clip: rect(1px, 1px, 1px, 1px);height: 1px;margin: -1px;overflow: hidden;padding: 0;position: absolute;width: 1px;}#sk-container-id-2 div.sk-estimator {font-family: monospace;background-color: #f0f8ff;border: 1px dotted black;border-radius: 0.25em;box-sizing: border-box;margin-bottom: 0.5em;}#sk-container-id-2 div.sk-estimator:hover {background-color: #d4ebff;}#sk-container-id-2 div.sk-parallel-item::after {content: \"\";width: 100%;border-bottom: 1px solid gray;flex-grow: 1;}#sk-container-id-2 div.sk-label:hover label.sk-toggleable__label {background-color: #d4ebff;}#sk-container-id-2 div.sk-serial::before {content: \"\";position: absolute;border-left: 1px solid gray;box-sizing: border-box;top: 0;bottom: 0;left: 50%;z-index: 0;}#sk-container-id-2 div.sk-serial {display: flex;flex-direction: column;align-items: center;background-color: white;padding-right: 0.2em;padding-left: 0.2em;position: relative;}#sk-container-id-2 div.sk-item {position: relative;z-index: 1;}#sk-container-id-2 div.sk-parallel {display: flex;align-items: stretch;justify-content: center;background-color: white;position: relative;}#sk-container-id-2 div.sk-item::before, #sk-container-id-2 div.sk-parallel-item::before {content: \"\";position: absolute;border-left: 1px solid gray;box-sizing: border-box;top: 0;bottom: 0;left: 50%;z-index: -1;}#sk-container-id-2 div.sk-parallel-item {display: flex;flex-direction: column;z-index: 1;position: relative;background-color: white;}#sk-container-id-2 div.sk-parallel-item:first-child::after {align-self: flex-end;width: 50%;}#sk-container-id-2 div.sk-parallel-item:last-child::after {align-self: flex-start;width: 50%;}#sk-container-id-2 div.sk-parallel-item:only-child::after {width: 0;}#sk-container-id-2 div.sk-dashed-wrapped {border: 1px dashed gray;margin: 0 0.4em 0.5em 0.4em;box-sizing: border-box;padding-bottom: 0.4em;background-color: white;}#sk-container-id-2 div.sk-label label {font-family: monospace;font-weight: bold;display: inline-block;line-height: 1.2em;}#sk-container-id-2 div.sk-label-container {text-align: center;}#sk-container-id-2 div.sk-container {/* jupyter's `normalize.less` sets `[hidden] { display: none; }` but bootstrap.min.css set `[hidden] { display: none !important; }` so we also need the `!important` here to be able to override the default hidden behavior on the sphinx rendered scikit-learn.org. See: https://github.com/scikit-learn/scikit-learn/issues/21755 */display: inline-block !important;position: relative;}#sk-container-id-2 div.sk-text-repr-fallback {display: none;}</style><div id=\"sk-container-id-2\" class=\"sk-top-container\"><div class=\"sk-text-repr-fallback\"><pre>LinearRegression()</pre><b>In a Jupyter environment, please rerun this cell to show the HTML representation or trust the notebook. <br />On GitHub, the HTML representation is unable to render, please try loading this page with nbviewer.org.</b></div><div class=\"sk-container\" hidden><div class=\"sk-item\"><div class=\"sk-estimator sk-toggleable\"><input class=\"sk-toggleable__control sk-hidden--visually\" id=\"sk-estimator-id-2\" type=\"checkbox\" checked><label for=\"sk-estimator-id-2\" class=\"sk-toggleable__label sk-toggleable__label-arrow\">LinearRegression</label><div class=\"sk-toggleable__content\"><pre>LinearRegression()</pre></div></div></div></div></div>"
      ],
      "text/plain": [
       "LinearRegression()"
      ]
     },
     "execution_count": 9,
     "metadata": {},
     "output_type": "execute_result"
    }
   ],
   "source": [
    "from sklearn.preprocessing import PolynomialFeatures\n",
    "poly = PolynomialFeatures(degree=2)\n",
    "X_poly=poly.fit_transform(X)\n",
    "y1_poly=poly.fit_transform(y1)\n",
    "y2_poly=poly.fit_transform(y2)\n",
    "\n",
    "model1=linear_model.LinearRegression()\n",
    "model1.fit(X_poly,y1_poly)\n",
    "\n",
    "model2=linear_model.LinearRegression()\n",
    "model2.fit(X_poly,y2_poly)"
   ]
  },
  {
   "cell_type": "code",
   "execution_count": 10,
   "metadata": {},
   "outputs": [
    {
     "name": "stdout",
     "output_type": "stream",
     "text": [
      "[[ 0.00000000e+00  0.00000000e+00  0.00000000e+00  0.00000000e+00\n",
      "   0.00000000e+00  0.00000000e+00]\n",
      " [ 0.00000000e+00 -9.82763664e-01 -9.74827538e-01 -4.14825580e-07\n",
      "  -2.14296867e-07  1.70371090e-06]\n",
      " [ 0.00000000e+00  1.88687618e-01 -3.16600525e-01  9.67540092e-01\n",
      "   1.91204493e+00  9.44853882e-01]] [ 1.00000000e+00  1.13528086e+00 -2.32675382e+03]\n",
      "[[ 0.00000000e+00  0.00000000e+00  0.00000000e+00  0.00000000e+00\n",
      "   0.00000000e+00  0.00000000e+00]\n",
      " [ 0.00000000e+00  9.81051941e-01 -9.69860301e-01 -4.37440290e-07\n",
      "   6.76834714e-07 -1.31777122e-06]\n",
      " [ 0.00000000e+00 -4.11691223e+00  8.87385904e+00  9.62723266e-01\n",
      "  -1.90682290e+00  9.11324073e-01]] [1.00000000e+00 2.21711922e+00 1.83954041e+04]\n"
     ]
    }
   ],
   "source": [
    "print(model1.coef_, model1.intercept_)\n",
    "print(model2.coef_, model2.intercept_)"
   ]
  },
  {
   "cell_type": "code",
   "execution_count": 11,
   "metadata": {},
   "outputs": [
    {
     "name": "stdout",
     "output_type": "stream",
     "text": [
      "0.9999843029147609\n",
      "0.9999523015076516\n"
     ]
    }
   ],
   "source": [
    "print(model1.score(X_poly,y1_poly))\n",
    "print(model2.score(X_poly,y2_poly))"
   ]
  }
 ],
 "metadata": {
  "kernelspec": {
   "display_name": "Python 3",
   "language": "python",
   "name": "python3"
  },
  "language_info": {
   "codemirror_mode": {
    "name": "ipython",
    "version": 3
   },
   "file_extension": ".py",
   "mimetype": "text/x-python",
   "name": "python",
   "nbconvert_exporter": "python",
   "pygments_lexer": "ipython3",
   "version": "3.11.2"
  },
  "orig_nbformat": 4
 },
 "nbformat": 4,
 "nbformat_minor": 2
}
