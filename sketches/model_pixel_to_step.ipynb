{
 "cells": [
  {
   "cell_type": "code",
   "execution_count": 1,
   "metadata": {},
   "outputs": [
    {
     "data": {
      "text/html": [
       "<div>\n",
       "<style scoped>\n",
       "    .dataframe tbody tr th:only-of-type {\n",
       "        vertical-align: middle;\n",
       "    }\n",
       "\n",
       "    .dataframe tbody tr th {\n",
       "        vertical-align: top;\n",
       "    }\n",
       "\n",
       "    .dataframe thead th {\n",
       "        text-align: right;\n",
       "    }\n",
       "</style>\n",
       "<table border=\"1\" class=\"dataframe\">\n",
       "  <thead>\n",
       "    <tr style=\"text-align: right;\">\n",
       "      <th></th>\n",
       "      <th>incr_x_dist</th>\n",
       "      <th>incr_y_dist</th>\n",
       "      <th>incr_x_undist</th>\n",
       "      <th>incr_y_undist</th>\n",
       "      <th>incr_x_dist_warp</th>\n",
       "      <th>incr_y_dist_warp</th>\n",
       "      <th>incr_x_undist_warp</th>\n",
       "      <th>incr_y_undist_warp</th>\n",
       "      <th>incr_point_x</th>\n",
       "      <th>incr_point_y</th>\n",
       "      <th>incr_id</th>\n",
       "      <th>incr_steps1</th>\n",
       "      <th>incr_steps2</th>\n",
       "    </tr>\n",
       "  </thead>\n",
       "  <tbody>\n",
       "    <tr>\n",
       "      <th>0</th>\n",
       "      <td>2132.0</td>\n",
       "      <td>-2058.0</td>\n",
       "      <td>2117.0</td>\n",
       "      <td>-2035.0</td>\n",
       "      <td>2156.250000</td>\n",
       "      <td>-2154.656000</td>\n",
       "      <td>2143.761000</td>\n",
       "      <td>-2130.890400</td>\n",
       "      <td>0.4</td>\n",
       "      <td>0.75</td>\n",
       "      <td>0-1</td>\n",
       "      <td>-37.783407</td>\n",
       "      <td>4193.954691</td>\n",
       "    </tr>\n",
       "    <tr>\n",
       "      <th>1</th>\n",
       "      <td>-13.0</td>\n",
       "      <td>694.0</td>\n",
       "      <td>-10.5</td>\n",
       "      <td>686.0</td>\n",
       "      <td>-5.257446</td>\n",
       "      <td>713.632700</td>\n",
       "      <td>-3.090332</td>\n",
       "      <td>705.031400</td>\n",
       "      <td>0.0</td>\n",
       "      <td>-0.25</td>\n",
       "      <td>4-5</td>\n",
       "      <td>-692.695214</td>\n",
       "      <td>-692.695214</td>\n",
       "    </tr>\n",
       "    <tr>\n",
       "      <th>2</th>\n",
       "      <td>2153.5</td>\n",
       "      <td>31.0</td>\n",
       "      <td>2119.5</td>\n",
       "      <td>29.5</td>\n",
       "      <td>2161.431400</td>\n",
       "      <td>4.768799</td>\n",
       "      <td>2128.473400</td>\n",
       "      <td>4.070679</td>\n",
       "      <td>0.4</td>\n",
       "      <td>0.00</td>\n",
       "      <td>5-6</td>\n",
       "      <td>-2115.869128</td>\n",
       "      <td>2115.869128</td>\n",
       "    </tr>\n",
       "    <tr>\n",
       "      <th>3</th>\n",
       "      <td>-1081.5</td>\n",
       "      <td>-16.5</td>\n",
       "      <td>-1064.0</td>\n",
       "      <td>-15.5</td>\n",
       "      <td>-1075.585900</td>\n",
       "      <td>-3.323486</td>\n",
       "      <td>-1058.812500</td>\n",
       "      <td>-2.729614</td>\n",
       "      <td>-0.2</td>\n",
       "      <td>0.00</td>\n",
       "      <td>6-7</td>\n",
       "      <td>1057.934603</td>\n",
       "      <td>-1057.934603</td>\n",
       "    </tr>\n",
       "    <tr>\n",
       "      <th>4</th>\n",
       "      <td>1070.0</td>\n",
       "      <td>723.5</td>\n",
       "      <td>1053.0</td>\n",
       "      <td>711.5</td>\n",
       "      <td>1075.197300</td>\n",
       "      <td>719.177600</td>\n",
       "      <td>1059.154000</td>\n",
       "      <td>707.624000</td>\n",
       "      <td>0.2</td>\n",
       "      <td>-0.25</td>\n",
       "      <td>7-8</td>\n",
       "      <td>-1750.629818</td>\n",
       "      <td>365.239389</td>\n",
       "    </tr>\n",
       "    <tr>\n",
       "      <th>5</th>\n",
       "      <td>-2149.5</td>\n",
       "      <td>-37.0</td>\n",
       "      <td>-2116.0</td>\n",
       "      <td>-35.5</td>\n",
       "      <td>-2160.604700</td>\n",
       "      <td>2.223145</td>\n",
       "      <td>-2128.798800</td>\n",
       "      <td>2.652100</td>\n",
       "      <td>-0.4</td>\n",
       "      <td>0.00</td>\n",
       "      <td>8-9</td>\n",
       "      <td>2115.869128</td>\n",
       "      <td>-2115.869128</td>\n",
       "    </tr>\n",
       "    <tr>\n",
       "      <th>6</th>\n",
       "      <td>2176.0</td>\n",
       "      <td>-1381.5</td>\n",
       "      <td>2143.5</td>\n",
       "      <td>-1362.5</td>\n",
       "      <td>2164.754600</td>\n",
       "      <td>-1436.420200</td>\n",
       "      <td>2133.432600</td>\n",
       "      <td>-1416.023300</td>\n",
       "      <td>0.4</td>\n",
       "      <td>0.50</td>\n",
       "      <td>9-10</td>\n",
       "      <td>-730.478700</td>\n",
       "      <td>3501.259556</td>\n",
       "    </tr>\n",
       "    <tr>\n",
       "      <th>7</th>\n",
       "      <td>-1113.5</td>\n",
       "      <td>1396.5</td>\n",
       "      <td>-1096.5</td>\n",
       "      <td>1376.0</td>\n",
       "      <td>-1086.915000</td>\n",
       "      <td>1431.946000</td>\n",
       "      <td>-1070.459500</td>\n",
       "      <td>1410.537500</td>\n",
       "      <td>-0.2</td>\n",
       "      <td>-0.50</td>\n",
       "      <td>10-11</td>\n",
       "      <td>-327.455825</td>\n",
       "      <td>-2443.325032</td>\n",
       "    </tr>\n",
       "  </tbody>\n",
       "</table>\n",
       "</div>"
      ],
      "text/plain": [
       "   incr_x_dist  incr_y_dist  incr_x_undist  incr_y_undist  incr_x_dist_warp   \n",
       "0       2132.0      -2058.0         2117.0        -2035.0       2156.250000  \\\n",
       "1        -13.0        694.0          -10.5          686.0         -5.257446   \n",
       "2       2153.5         31.0         2119.5           29.5       2161.431400   \n",
       "3      -1081.5        -16.5        -1064.0          -15.5      -1075.585900   \n",
       "4       1070.0        723.5         1053.0          711.5       1075.197300   \n",
       "5      -2149.5        -37.0        -2116.0          -35.5      -2160.604700   \n",
       "6       2176.0      -1381.5         2143.5        -1362.5       2164.754600   \n",
       "7      -1113.5       1396.5        -1096.5         1376.0      -1086.915000   \n",
       "\n",
       "   incr_y_dist_warp  incr_x_undist_warp  incr_y_undist_warp  incr_point_x   \n",
       "0      -2154.656000         2143.761000        -2130.890400           0.4  \\\n",
       "1        713.632700           -3.090332          705.031400           0.0   \n",
       "2          4.768799         2128.473400            4.070679           0.4   \n",
       "3         -3.323486        -1058.812500           -2.729614          -0.2   \n",
       "4        719.177600         1059.154000          707.624000           0.2   \n",
       "5          2.223145        -2128.798800            2.652100          -0.4   \n",
       "6      -1436.420200         2133.432600        -1416.023300           0.4   \n",
       "7       1431.946000        -1070.459500         1410.537500          -0.2   \n",
       "\n",
       "   incr_point_y incr_id  incr_steps1  incr_steps2  \n",
       "0          0.75     0-1   -37.783407  4193.954691  \n",
       "1         -0.25     4-5  -692.695214  -692.695214  \n",
       "2          0.00     5-6 -2115.869128  2115.869128  \n",
       "3          0.00     6-7  1057.934603 -1057.934603  \n",
       "4         -0.25     7-8 -1750.629818   365.239389  \n",
       "5          0.00     8-9  2115.869128 -2115.869128  \n",
       "6          0.50    9-10  -730.478700  3501.259556  \n",
       "7         -0.50   10-11  -327.455825 -2443.325032  "
      ]
     },
     "execution_count": 1,
     "metadata": {},
     "output_type": "execute_result"
    }
   ],
   "source": [
    "import pandas as pd\n",
    "import numpy as np\n",
    "data = pd.read_csv('./data/calibration_pixel_to_step.csv', sep=' ',decimal='.')\n",
    "data"
   ]
  },
  {
   "cell_type": "code",
   "execution_count": 6,
   "metadata": {},
   "outputs": [],
   "source": [
    "y1 = data[['incr_steps1']]\n",
    "y2 = data[['incr_steps2']]\n",
    "X = data[['incr_x_undist_warp', 'incr_y_undist_warp']]"
   ]
  },
  {
   "cell_type": "code",
   "execution_count": 7,
   "metadata": {},
   "outputs": [
    {
     "data": {
      "text/html": [
       "<style>#sk-container-id-2 {color: black;background-color: white;}#sk-container-id-2 pre{padding: 0;}#sk-container-id-2 div.sk-toggleable {background-color: white;}#sk-container-id-2 label.sk-toggleable__label {cursor: pointer;display: block;width: 100%;margin-bottom: 0;padding: 0.3em;box-sizing: border-box;text-align: center;}#sk-container-id-2 label.sk-toggleable__label-arrow:before {content: \"▸\";float: left;margin-right: 0.25em;color: #696969;}#sk-container-id-2 label.sk-toggleable__label-arrow:hover:before {color: black;}#sk-container-id-2 div.sk-estimator:hover label.sk-toggleable__label-arrow:before {color: black;}#sk-container-id-2 div.sk-toggleable__content {max-height: 0;max-width: 0;overflow: hidden;text-align: left;background-color: #f0f8ff;}#sk-container-id-2 div.sk-toggleable__content pre {margin: 0.2em;color: black;border-radius: 0.25em;background-color: #f0f8ff;}#sk-container-id-2 input.sk-toggleable__control:checked~div.sk-toggleable__content {max-height: 200px;max-width: 100%;overflow: auto;}#sk-container-id-2 input.sk-toggleable__control:checked~label.sk-toggleable__label-arrow:before {content: \"▾\";}#sk-container-id-2 div.sk-estimator input.sk-toggleable__control:checked~label.sk-toggleable__label {background-color: #d4ebff;}#sk-container-id-2 div.sk-label input.sk-toggleable__control:checked~label.sk-toggleable__label {background-color: #d4ebff;}#sk-container-id-2 input.sk-hidden--visually {border: 0;clip: rect(1px 1px 1px 1px);clip: rect(1px, 1px, 1px, 1px);height: 1px;margin: -1px;overflow: hidden;padding: 0;position: absolute;width: 1px;}#sk-container-id-2 div.sk-estimator {font-family: monospace;background-color: #f0f8ff;border: 1px dotted black;border-radius: 0.25em;box-sizing: border-box;margin-bottom: 0.5em;}#sk-container-id-2 div.sk-estimator:hover {background-color: #d4ebff;}#sk-container-id-2 div.sk-parallel-item::after {content: \"\";width: 100%;border-bottom: 1px solid gray;flex-grow: 1;}#sk-container-id-2 div.sk-label:hover label.sk-toggleable__label {background-color: #d4ebff;}#sk-container-id-2 div.sk-serial::before {content: \"\";position: absolute;border-left: 1px solid gray;box-sizing: border-box;top: 0;bottom: 0;left: 50%;z-index: 0;}#sk-container-id-2 div.sk-serial {display: flex;flex-direction: column;align-items: center;background-color: white;padding-right: 0.2em;padding-left: 0.2em;position: relative;}#sk-container-id-2 div.sk-item {position: relative;z-index: 1;}#sk-container-id-2 div.sk-parallel {display: flex;align-items: stretch;justify-content: center;background-color: white;position: relative;}#sk-container-id-2 div.sk-item::before, #sk-container-id-2 div.sk-parallel-item::before {content: \"\";position: absolute;border-left: 1px solid gray;box-sizing: border-box;top: 0;bottom: 0;left: 50%;z-index: -1;}#sk-container-id-2 div.sk-parallel-item {display: flex;flex-direction: column;z-index: 1;position: relative;background-color: white;}#sk-container-id-2 div.sk-parallel-item:first-child::after {align-self: flex-end;width: 50%;}#sk-container-id-2 div.sk-parallel-item:last-child::after {align-self: flex-start;width: 50%;}#sk-container-id-2 div.sk-parallel-item:only-child::after {width: 0;}#sk-container-id-2 div.sk-dashed-wrapped {border: 1px dashed gray;margin: 0 0.4em 0.5em 0.4em;box-sizing: border-box;padding-bottom: 0.4em;background-color: white;}#sk-container-id-2 div.sk-label label {font-family: monospace;font-weight: bold;display: inline-block;line-height: 1.2em;}#sk-container-id-2 div.sk-label-container {text-align: center;}#sk-container-id-2 div.sk-container {/* jupyter's `normalize.less` sets `[hidden] { display: none; }` but bootstrap.min.css set `[hidden] { display: none !important; }` so we also need the `!important` here to be able to override the default hidden behavior on the sphinx rendered scikit-learn.org. See: https://github.com/scikit-learn/scikit-learn/issues/21755 */display: inline-block !important;position: relative;}#sk-container-id-2 div.sk-text-repr-fallback {display: none;}</style><div id=\"sk-container-id-2\" class=\"sk-top-container\"><div class=\"sk-text-repr-fallback\"><pre>LinearRegression()</pre><b>In a Jupyter environment, please rerun this cell to show the HTML representation or trust the notebook. <br />On GitHub, the HTML representation is unable to render, please try loading this page with nbviewer.org.</b></div><div class=\"sk-container\" hidden><div class=\"sk-item\"><div class=\"sk-estimator sk-toggleable\"><input class=\"sk-toggleable__control sk-hidden--visually\" id=\"sk-estimator-id-2\" type=\"checkbox\" checked><label for=\"sk-estimator-id-2\" class=\"sk-toggleable__label sk-toggleable__label-arrow\">LinearRegression</label><div class=\"sk-toggleable__content\"><pre>LinearRegression()</pre></div></div></div></div></div>"
      ],
      "text/plain": [
       "LinearRegression()"
      ]
     },
     "execution_count": 7,
     "metadata": {},
     "output_type": "execute_result"
    }
   ],
   "source": [
    "from sklearn import linear_model\n",
    "model1=linear_model.LinearRegression()\n",
    "model1.fit(X,y1)\n",
    "model2=linear_model.LinearRegression()\n",
    "model2.fit(X,y2)"
   ]
  },
  {
   "cell_type": "code",
   "execution_count": 8,
   "metadata": {},
   "outputs": [
    {
     "name": "stdout",
     "output_type": "stream",
     "text": [
      "[[-0.99450602 -0.98395573]] [-0.40368274]\n",
      "[[ 0.99513549 -0.97152507]] [-2.60128434]\n"
     ]
    }
   ],
   "source": [
    "print(model1.coef_, model1.intercept_)\n",
    "print(model2.coef_, model2.intercept_)\n"
   ]
  },
  {
   "cell_type": "code",
   "execution_count": 9,
   "metadata": {},
   "outputs": [
    {
     "name": "stdout",
     "output_type": "stream",
     "text": [
      "0.9999953546400692\n",
      "0.9999954247418309\n"
     ]
    }
   ],
   "source": [
    "print(model1.score(X,y1))\n",
    "print(model2.score(X,y2))"
   ]
  }
 ],
 "metadata": {
  "kernelspec": {
   "display_name": "Python 3",
   "language": "python",
   "name": "python3"
  },
  "language_info": {
   "codemirror_mode": {
    "name": "ipython",
    "version": 3
   },
   "file_extension": ".py",
   "mimetype": "text/x-python",
   "name": "python",
   "nbconvert_exporter": "python",
   "pygments_lexer": "ipython3",
   "version": "3.11.2"
  },
  "orig_nbformat": 4
 },
 "nbformat": 4,
 "nbformat_minor": 2
}
